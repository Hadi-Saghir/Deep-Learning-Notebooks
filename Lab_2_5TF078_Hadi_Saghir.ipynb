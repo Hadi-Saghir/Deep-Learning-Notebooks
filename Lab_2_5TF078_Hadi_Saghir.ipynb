{
  "nbformat": 4,
  "nbformat_minor": 0,
  "metadata": {
    "colab": {
      "provenance": [],
      "authorship_tag": "ABX9TyPgCiqSrMA7EE1bV6sfxdYF",
      "include_colab_link": true
    },
    "kernelspec": {
      "name": "python3",
      "display_name": "Python 3"
    },
    "language_info": {
      "name": "python"
    },
    "accelerator": "GPU",
    "gpuClass": "standard"
  },
  "cells": [
    {
      "cell_type": "markdown",
      "metadata": {
        "id": "view-in-github",
        "colab_type": "text"
      },
      "source": [
        "<a href=\"https://colab.research.google.com/github/Hadi-Saghir/Deep-Learning-Notebooks/blob/main/Lab_2_5TF078_Hadi_Saghir.ipynb\" target=\"_parent\"><img src=\"https://colab.research.google.com/assets/colab-badge.svg\" alt=\"Open In Colab\"/></a>"
      ]
    },
    {
      "cell_type": "markdown",
      "source": [
        "#**Lab 2: Transfer Learning**\n",
        "## Author: Hadi Saghir (hasa0182)\n",
        "\n",
        "This lab will demonstrate knowledge and ability to apply transfer learning (TA) in convolution neural netweorks (CNN).\n",
        "\n",
        "This document will contain 4 parts:\n",
        "- Prelude\n",
        "- Applying the VGG16 model and expirmenting with the last layers.\n",
        "- Fine tuning our model\n",
        "- Applying the Xception model\n",
        "\n",
        "\n",
        "**OBS! i got permission from Tomas to update my document only regarding feedback from lab 1**"
      ],
      "metadata": {
        "id": "CePbUVqktIw4"
      }
    },
    {
      "cell_type": "markdown",
      "source": [
        "# Prelude\n",
        "\n",
        "##Intialize python enviroment anc check for the GPU"
      ],
      "metadata": {
        "id": "bDkRFT81yj4C"
      }
    },
    {
      "cell_type": "markdown",
      "source": [],
      "metadata": {
        "id": "ITUuNZbnDDEr"
      }
    },
    {
      "cell_type": "code",
      "execution_count": null,
      "metadata": {
        "colab": {
          "base_uri": "https://localhost:8080/"
        },
        "id": "v-wDgL9xsGvu",
        "outputId": "5cb9a8ac-b15a-4a19-cf0f-d2b3318a823d"
      },
      "outputs": [
        {
          "output_type": "stream",
          "name": "stdout",
          "text": [
            "TensorFlow version: 2.9.2\n",
            "Keras version: 2.9.0\n",
            "GPU 0: Tesla T4 (UUID: GPU-5d0243d2-6e21-d2c5-386d-962dd8e52db4)\n"
          ]
        }
      ],
      "source": [
        "# Import needed libraries\n",
        "import tensorflow as tf\n",
        "print('TensorFlow version:', tf.__version__)\n",
        "\n",
        "# from tensorflow import keras\n",
        "# from tensorflow.keras import layers\n",
        "\n",
        "from tensorflow.keras.models import Sequential\n",
        "from tensorflow.keras.layers import Dense, Flatten, Conv2D\n",
        "from tensorflow.keras.utils  import to_categorical\n",
        "\n",
        "import keras\n",
        "from keras.utils import to_categorical\n",
        "from keras.models import Sequential\n",
        "from keras.layers import Conv2D, MaxPooling2D, Dense, Dropout, Flatten\n",
        "\n",
        "#from keras.layers.advanced_activations import LeakyReLU\n",
        "from keras.preprocessing.image import ImageDataGenerator\n",
        "from keras.applications import VGG16;\n",
        "from keras.applications import Xception;\n",
        "\n",
        "print('Keras version:',tf.keras.__version__)\n",
        "\n",
        "# Helper libraries\n",
        "import numpy as np\n",
        "import sklearn\n",
        "from   sklearn.model_selection import train_test_split\n",
        "\n",
        "# Matlab plotting\n",
        "import matplotlib\n",
        "import matplotlib.pyplot as plt\n",
        "\n",
        "# Test for GPU and determine what GPU we have\n",
        "import sys\n",
        "if not tf.config.list_physical_devices('GPU'):\n",
        "     print(\"No GPU was detected. CNNs can be very slow without a GPU.\")\n",
        "     IN_COLAB = 'google.colab' in sys.modules\n",
        "     if IN_COLAB:\n",
        "         print(\"Go to Runtime > Change runtime and select a GPU hardware accelerator.\")\n",
        "else:\n",
        "     !nvidia-smi -L"
      ]
    },
    {
      "cell_type": "markdown",
      "source": [
        "### Define general attributes and functions\n",
        "\n",
        "Defininf parameters, functions and classes that will be used by the all three parts. My generator will allow use to stream and transfer simultaneously while decrease he need for space as images will be streamed and processed in batches."
      ],
      "metadata": {
        "id": "L0mnph3gfCgh"
      }
    },
    {
      "cell_type": "code",
      "source": [
        "from tensorflow.python.saved_model.model_utils.mode_keys import EstimatorModeKeys\n",
        "\n",
        "# Define the parameters\n",
        "IMG_WIDTH = 64\n",
        "IMG_HEIGHT = 64\n",
        "IMG_DEPTH = 3 #the img_transform changes 1 to 3 automatically when greyscale.to.rgb is called\n",
        "input_shape = (IMG_WIDTH, IMG_HEIGHT, IMG_DEPTH)\n",
        "\n",
        "BATCH_SIZE = 16 # batch size for generator (must be divisible by batch_size)\n",
        "batch_size = 32 # batch size for training\n",
        "\n",
        "# Define an in-stream transform (gray2color, resize)\n",
        "def img_transform(images):\n",
        " images = tf.image.grayscale_to_rgb(tf.convert_to_tensor(images))\n",
        " images = tf.image.resize_with_pad(images, IMG_WIDTH, IMG_HEIGHT, antialias=False)\n",
        " return images\n",
        "\n",
        "# Define a Sequence generator\n",
        "class Mygenerator(tf.keras.utils.Sequence):\n",
        "  def __init__(self, x_set, y_set, batch_size):\n",
        "    self.x, self.y = x_set, y_set\n",
        "    self.batch_size = batch_size\n",
        "\n",
        "  def __len__(self):\n",
        "    return int(np.ceil(len(self.x) / float(self.batch_size)))\n",
        "\n",
        "  def __getitem__(self, idx):\n",
        "    end = min(self.x.shape[0], (idx + 1)*batch_size)\n",
        "    batch_x = self.x[idx * self.batch_size : end]\n",
        "    batch_y = self.y[idx * self.batch_size : end]\n",
        "    # transform the images to fit the model constraints\n",
        "    x=img_transform(batch_x)\n",
        "    print(\"batch_y = \", batch_y.shape)\n",
        "    y=to_categorical(batch_y)\n",
        "    print(\"y = \", y.shape)\n",
        "    return np.array(x), np.array(y)\n"
      ],
      "metadata": {
        "id": "ClCcaTyDy0Hi"
      },
      "execution_count": null,
      "outputs": []
    },
    {
      "cell_type": "markdown",
      "source": [
        "## Set up the dataset\n",
        "\n"
      ],
      "metadata": {
        "id": "o_BJ5MzOzBX_"
      }
    },
    {
      "cell_type": "code",
      "source": [
        "# Get Fashion-MNIST training and test data from Keras database (https://keras.io/datasets/)\n",
        "dir_path_train = \"/kaggle/input/fast-food-classification-dataset/Fast Food Classification V2/Train\"\n",
        "dir_path_test = \"/kaggle/input/fast-food-classification-dataset/Fast Food Classification V2/Test\"\n",
        "dir_path_valid = \"/kaggle/input/fast-food-classification-dataset/Fast Food Classification V2/Valid\"\n",
        "(train_images0, train_labels0), (test_images, test_labels) = tf.keras.datasets.fashion_mnist.load_data()\n",
        "\n",
        "# Define labels\n",
        "class_names = ['T-shirt/top', 'Trouser', 'Pullover', 'Dress', 'Coat',\n",
        "               'Sandal', 'Shirt', 'Sneaker', 'Bag', 'Ankle boot']\n",
        "\n",
        "# Split the training set into a training and a validation set (20% is validation)\n",
        "train_images, val_images, train_labels, val_labels = train_test_split(train_images0, train_labels0, test_size=0.20)\n",
        "\n",
        "# Add an \"empty\" color dimension for our data sets\n",
        "train_images = np.expand_dims(train_images, -1)\n",
        "val_images = np.expand_dims(val_images, -1)\n",
        "test_images = np.expand_dims(test_images, -1)\n",
        "\n",
        "# Generate data streams of from data sets (OBS! block of code for resize of entire dataset)\n",
        "train_gen = Mygenerator(train_images, train_labels, batch_size = BATCH_SIZE )\n",
        "val_gen = Mygenerator(train_images, train_labels, batch_size = BATCH_SIZE )\n",
        "test_gen = Mygenerator(test_images, test_labels, batch_size = BATCH_SIZE)\n"
      ],
      "metadata": {
        "id": "WjPT3QD0zIGm",
        "colab": {
          "base_uri": "https://localhost:8080/"
        },
        "outputId": "71966e36-1c1d-4d36-bfdd-6f1aec42771e"
      },
      "execution_count": null,
      "outputs": [
        {
          "output_type": "stream",
          "name": "stdout",
          "text": [
            "Downloading data from https://storage.googleapis.com/tensorflow/tf-keras-datasets/train-labels-idx1-ubyte.gz\n",
            "29515/29515 [==============================] - 0s 0us/step\n",
            "Downloading data from https://storage.googleapis.com/tensorflow/tf-keras-datasets/train-images-idx3-ubyte.gz\n",
            "26421880/26421880 [==============================] - 0s 0us/step\n",
            "Downloading data from https://storage.googleapis.com/tensorflow/tf-keras-datasets/t10k-labels-idx1-ubyte.gz\n",
            "5148/5148 [==============================] - 0s 0us/step\n",
            "Downloading data from https://storage.googleapis.com/tensorflow/tf-keras-datasets/t10k-images-idx3-ubyte.gz\n",
            "4422102/4422102 [==============================] - 0s 0us/step\n"
          ]
        }
      ]
    },
    {
      "cell_type": "markdown",
      "source": [
        "## resize entire dataset"
      ],
      "metadata": {
        "id": "AH53vUNggc98"
      }
    },
    {
      "cell_type": "code",
      "source": [
        "#make labels categorical\n",
        "train_labels_cat = to_categorical(train_labels)\n",
        "test_labels_cat = to_categorical(test_labels)\n",
        "val_labels_cat = to_categorical(val_labels)\n",
        "\n",
        "#resize dataset (attrbutes definied in the definition block found above)\n",
        "train_images = img_transform(train_images)\n",
        "val_images = img_transform(val_images)\n",
        "test_images = img_transform(test_images)"
      ],
      "metadata": {
        "id": "TsYr9yIrggho"
      },
      "execution_count": null,
      "outputs": []
    },
    {
      "cell_type": "markdown",
      "source": [
        "### print info on the dataset"
      ],
      "metadata": {
        "id": "SCtkX7WOgSRn"
      }
    },
    {
      "cell_type": "code",
      "source": [
        "#print info of the dataset\n",
        "print(train_images.shape)\n",
        "print(test_images.shape)\n",
        "print(val_images.shape)\n",
        "\n",
        "classes = np.unique(train_labels)\n",
        "num_classes = len(classes)\n",
        "print('Training labels:', np.unique(train_labels), \"; That is,\", num_classes,\"classes.\" )"
      ],
      "metadata": {
        "colab": {
          "base_uri": "https://localhost:8080/"
        },
        "id": "5oWTVdYJgPu3",
        "outputId": "f051616f-1c5e-4691-dc64-efc9c9244579"
      },
      "execution_count": null,
      "outputs": [
        {
          "output_type": "stream",
          "name": "stdout",
          "text": [
            "(48000, 64, 64, 3)\n",
            "(10000, 64, 64, 3)\n",
            "(12000, 64, 64, 3)\n",
            "Training labels: [0 1 2 3 4 5 6 7 8 9] ; That is, 10 classes.\n"
          ]
        }
      ]
    },
    {
      "cell_type": "markdown",
      "source": [
        "# Applying the VGG16 model and expirmenting with the last layers."
      ],
      "metadata": {
        "id": "YDIb3NUSFP7t"
      }
    },
    {
      "cell_type": "markdown",
      "source": [
        "### Defining the model"
      ],
      "metadata": {
        "id": "IOGADI_RhKWV"
      }
    },
    {
      "cell_type": "code",
      "source": [
        "# Define out vgg_model\n",
        "vgg_model = VGG16(    include_top=False,\n",
        "                      weights=\"imagenet\",\n",
        "                      input_tensor= None,\n",
        "                      input_shape = input_shape,\n",
        "                      pooling=None,\n",
        "                      classes=10,\n",
        "                      classifier_activation=\"softmax\",\n",
        "                 )\n",
        "\n",
        "# Creating dictionary that maps layer names to the layers\n",
        "layer_dict = dict([(layer.name, layer) for layer in vgg_model.layers])\n",
        "\n",
        "# Getting output tensor of the last VGG layer that we want to include\n",
        "x = layer_dict['block3_pool'].output\n",
        "\n",
        "# Stacking a new simple convolutional network on top of it\n",
        "x = keras.layers.BatchNormalization(axis=-1)(x)\n",
        "x = Flatten()(x)\n",
        "x = Dense(512, activation='relu')(x)\n",
        "x = tf.keras.layers.LeakyReLU(alpha=0.1)(x)\n",
        "x = Dense(units=num_classes, activation='softmax')(x)\n",
        "\n",
        "# Creating new model. Please note that this is NOT a Sequential() model.\n",
        "from keras.models import Model\n",
        "model = Model(vgg_model.input, x)\n",
        "\n",
        "# Adjust the trainable layers are not trainable\n",
        "for layer in model.layers[0:-5]:\n",
        "    layer.trainable = False\n",
        "\n",
        "model.summary()"
      ],
      "metadata": {
        "id": "87rC64oI6Ytb",
        "colab": {
          "base_uri": "https://localhost:8080/"
        },
        "outputId": "30171a06-aec5-41cb-adb6-208b9d108fd6"
      },
      "execution_count": null,
      "outputs": [
        {
          "output_type": "stream",
          "name": "stdout",
          "text": [
            "Downloading data from https://storage.googleapis.com/tensorflow/keras-applications/vgg16/vgg16_weights_tf_dim_ordering_tf_kernels_notop.h5\n",
            "58889256/58889256 [==============================] - 0s 0us/step\n",
            "Model: \"model\"\n",
            "_________________________________________________________________\n",
            " Layer (type)                Output Shape              Param #   \n",
            "=================================================================\n",
            " input_1 (InputLayer)        [(None, 64, 64, 3)]       0         \n",
            "                                                                 \n",
            " block1_conv1 (Conv2D)       (None, 64, 64, 64)        1792      \n",
            "                                                                 \n",
            " block1_conv2 (Conv2D)       (None, 64, 64, 64)        36928     \n",
            "                                                                 \n",
            " block1_pool (MaxPooling2D)  (None, 32, 32, 64)        0         \n",
            "                                                                 \n",
            " block2_conv1 (Conv2D)       (None, 32, 32, 128)       73856     \n",
            "                                                                 \n",
            " block2_conv2 (Conv2D)       (None, 32, 32, 128)       147584    \n",
            "                                                                 \n",
            " block2_pool (MaxPooling2D)  (None, 16, 16, 128)       0         \n",
            "                                                                 \n",
            " block3_conv1 (Conv2D)       (None, 16, 16, 256)       295168    \n",
            "                                                                 \n",
            " block3_conv2 (Conv2D)       (None, 16, 16, 256)       590080    \n",
            "                                                                 \n",
            " block3_conv3 (Conv2D)       (None, 16, 16, 256)       590080    \n",
            "                                                                 \n",
            " block3_pool (MaxPooling2D)  (None, 8, 8, 256)         0         \n",
            "                                                                 \n",
            " batch_normalization (BatchN  (None, 8, 8, 256)        1024      \n",
            " ormalization)                                                   \n",
            "                                                                 \n",
            " flatten (Flatten)           (None, 16384)             0         \n",
            "                                                                 \n",
            " dense (Dense)               (None, 512)               8389120   \n",
            "                                                                 \n",
            " leaky_re_lu (LeakyReLU)     (None, 512)               0         \n",
            "                                                                 \n",
            " dense_1 (Dense)             (None, 10)                5130      \n",
            "                                                                 \n",
            "=================================================================\n",
            "Total params: 10,130,762\n",
            "Trainable params: 8,394,762\n",
            "Non-trainable params: 1,736,000\n",
            "_________________________________________________________________\n"
          ]
        }
      ]
    },
    {
      "cell_type": "code",
      "source": [
        "# Compile the model\n",
        "model.compile(\n",
        "  optimizer='Adam',\n",
        "  loss='categorical_crossentropy',\n",
        "  metrics=['categorical_accuracy']\n",
        ")\n",
        "\n",
        "# Generate data streams from data sets\n",
        "epochs = 100\n",
        "\n",
        "es=tf.keras.callbacks.EarlyStopping(monitor='val_loss', verbose=1, patience=3, mode='auto', min_delta=0, restore_best_weights = True)\n",
        "rl = tf.keras.callbacks.ReduceLROnPlateau(monitor='val_loss', factor=0.2, patience=2, verbose=1, mode='auto', epsilon=0.0001, cooldown=2, min_lr=0)\n",
        "callbacks =[es,rl]\n",
        "\n",
        "\"\"\"\n",
        "# Training using streams\n",
        "history = model.fit(train_gen,\n",
        "                    epochs=epochs,\n",
        "                    steps_per_epoch=train_images.shape[0]\n",
        "                    shuffle=True,\n",
        "                    verbose=1,\n",
        "                    validation_data=val_gen,\n",
        "                    callbacks=callbacks)\n",
        "\n",
        "# Evaluate\n",
        "score = model.evaluate(test_gen)\n",
        "print('Test Loss:', score[0])\n",
        "print('Test accuracy:', score[1])\n",
        "\"\"\"\n",
        "\n",
        "# Training using existing data\n",
        "history = model.fit(train_images, to_categorical(train_labels),\n",
        "                    epochs=epochs,\n",
        "                    shuffle=True,\n",
        "                    verbose=1,\n",
        "                    batch_size=batch_size,\n",
        "                    validation_data=[val_images, to_categorical(val_labels)],\n",
        "                    callbacks=callbacks\n",
        "                    )\n",
        "\n",
        "# Evaluate\n",
        "test_loss, test_acc = model.evaluate(test_images, to_categorical(test_labels))\n",
        "\n",
        "\n",
        "# Print evalutation\n",
        "print('Test accuracy: %.3f' % test_acc)"
      ],
      "metadata": {
        "colab": {
          "base_uri": "https://localhost:8080/"
        },
        "id": "KEvG4X92Fiep",
        "outputId": "f1716a49-048f-4433-aaf6-71596a0eb583"
      },
      "execution_count": null,
      "outputs": [
        {
          "output_type": "stream",
          "name": "stderr",
          "text": [
            "WARNING:tensorflow:`epsilon` argument is deprecated and will be removed, use `min_delta` instead.\n"
          ]
        },
        {
          "output_type": "stream",
          "name": "stdout",
          "text": [
            "Epoch 1/100\n",
            "1500/1500 [==============================] - 18s 11ms/step - loss: 0.8588 - categorical_accuracy: 0.8554 - val_loss: 0.3955 - val_categorical_accuracy: 0.8670 - lr: 0.0010\n",
            "Epoch 2/100\n",
            "1500/1500 [==============================] - 16s 11ms/step - loss: 0.2765 - categorical_accuracy: 0.9001 - val_loss: 0.2597 - val_categorical_accuracy: 0.9044 - lr: 0.0010\n",
            "Epoch 3/100\n",
            "1500/1500 [==============================] - 16s 11ms/step - loss: 0.2330 - categorical_accuracy: 0.9165 - val_loss: 0.2431 - val_categorical_accuracy: 0.9126 - lr: 0.0010\n",
            "Epoch 4/100\n",
            "1500/1500 [==============================] - 16s 11ms/step - loss: 0.2093 - categorical_accuracy: 0.9246 - val_loss: 0.2217 - val_categorical_accuracy: 0.9233 - lr: 0.0010\n",
            "Epoch 5/100\n",
            "1500/1500 [==============================] - 16s 11ms/step - loss: 0.1782 - categorical_accuracy: 0.9370 - val_loss: 0.2577 - val_categorical_accuracy: 0.9154 - lr: 0.0010\n",
            "Epoch 6/100\n",
            "1498/1500 [============================>.] - ETA: 0s - loss: 0.1578 - categorical_accuracy: 0.9434\n",
            "Epoch 6: ReduceLROnPlateau reducing learning rate to 0.00020000000949949026.\n",
            "1500/1500 [==============================] - 16s 11ms/step - loss: 0.1578 - categorical_accuracy: 0.9434 - val_loss: 0.2278 - val_categorical_accuracy: 0.9264 - lr: 0.0010\n",
            "Epoch 7/100\n",
            "1500/1500 [==============================] - 16s 11ms/step - loss: 0.0824 - categorical_accuracy: 0.9703 - val_loss: 0.1970 - val_categorical_accuracy: 0.9357 - lr: 2.0000e-04\n",
            "Epoch 8/100\n",
            "1500/1500 [==============================] - 16s 11ms/step - loss: 0.0585 - categorical_accuracy: 0.9792 - val_loss: 0.2070 - val_categorical_accuracy: 0.9392 - lr: 2.0000e-04\n",
            "Epoch 9/100\n",
            "1499/1500 [============================>.] - ETA: 0s - loss: 0.0431 - categorical_accuracy: 0.9848\n",
            "Epoch 9: ReduceLROnPlateau reducing learning rate to 4.0000001899898055e-05.\n",
            "1500/1500 [==============================] - 16s 11ms/step - loss: 0.0431 - categorical_accuracy: 0.9848 - val_loss: 0.2254 - val_categorical_accuracy: 0.9377 - lr: 2.0000e-04\n",
            "Epoch 10/100\n",
            "1496/1500 [============================>.] - ETA: 0s - loss: 0.0234 - categorical_accuracy: 0.9937Restoring model weights from the end of the best epoch: 7.\n",
            "1500/1500 [==============================] - 16s 11ms/step - loss: 0.0233 - categorical_accuracy: 0.9937 - val_loss: 0.2249 - val_categorical_accuracy: 0.9388 - lr: 4.0000e-05\n",
            "Epoch 10: early stopping\n",
            "313/313 [==============================] - 3s 7ms/step - loss: 0.2218 - categorical_accuracy: 0.9315\n",
            "Test accuracy: 0.932\n"
          ]
        }
      ]
    },
    {
      "cell_type": "markdown",
      "source": [
        "### Explore the training progress\n",
        "Show the training progress, by plotting the training and validation accuracy and loss"
      ],
      "metadata": {
        "id": "A6aLVA1ecqZx"
      }
    },
    {
      "cell_type": "code",
      "source": [
        "epochrange = range(1, callbacks[0].stopped_epoch + 2) # change to the epoch it stopped at when adding the early stopping method\n",
        "train_acc = history.history['categorical_accuracy']\n",
        "val_acc = history.history['val_categorical_accuracy']\n",
        "\n",
        "train_loss = history.history['loss']\n",
        "val_loss = history.history['val_loss']\n",
        "\n",
        "plt.plot(epochrange, train_acc, 'bo', label='Training acc')\n",
        "plt.plot(epochrange, val_acc, 'b', label='Validation acc')\n",
        "plt.title('Training and validation accuracy (modell 1)')\n",
        "plt.xlabel('Epochs')\n",
        "plt.ylabel('Accuracy')\n",
        "plt.legend()\n",
        "plt.show()\n",
        "\n",
        "plt.plot(epochrange, train_loss, 'bo', label='Training loss')\n",
        "plt.plot(epochrange, val_loss, 'b', label='Validation loss')\n",
        "plt.title('Training and validation loss (modell 1)')\n",
        "plt.xlabel('Epochs')\n",
        "plt.ylabel('Loss')\n",
        "plt.legend()\n",
        "plt.show()"
      ],
      "metadata": {
        "colab": {
          "base_uri": "https://localhost:8080/",
          "height": 573
        },
        "id": "zN0uaHLmcpuG",
        "outputId": "b6538008-fa47-4eaa-88f3-25ed314e5693"
      },
      "execution_count": null,
      "outputs": [
        {
          "output_type": "display_data",
          "data": {
            "text/plain": [
              "<Figure size 432x288 with 1 Axes>"
            ],
            "image/png": "[encoded data removed]"
          },
          "metadata": {
            "needs_background": "light"
          }
        },
        {
          "output_type": "display_data",
          "data": {
            "text/plain": [
              "<Figure size 432x288 with 1 Axes>"
            ],
            "image/png": "[encoded data removed]"
          },
          "metadata": {
            "needs_background": "light"
          }
        }
      ]
    },
    {
      "cell_type": "markdown",
      "source": [
        "### Evaluate the model on the test data.\n"
      ],
      "metadata": {
        "id": "drjiKLnkc2Vn"
      }
    },
    {
      "cell_type": "code",
      "source": [
        "# Evaluate the model.\n",
        "test_loss, test_acc = model.evaluate(test_images,to_categorical(test_labels))\n",
        "print('Test accuracy: %.3f' % test_acc)"
      ],
      "metadata": {
        "colab": {
          "base_uri": "https://localhost:8080/"
        },
        "id": "3zj21AQfc804",
        "outputId": "709ef3f1-5a2b-4ca8-cdbd-fc39b3ed83a5"
      },
      "execution_count": null,
      "outputs": [
        {
          "output_type": "stream",
          "name": "stdout",
          "text": [
            "313/313 [==============================] - 4s 12ms/step - loss: 0.1799 - categorical_accuracy: 0.9413\n",
            "Test accuracy: 0.941\n"
          ]
        }
      ]
    },
    {
      "cell_type": "markdown",
      "source": [],
      "metadata": {
        "id": "BSAsgwzLAJZ1"
      }
    },
    {
      "cell_type": "markdown",
      "source": [
        "## Analysis\n",
        "\n",
        "### No trainble layers\n",
        "I didn't know i set all layers trainble = false. The result was stagnation after the first epoch at accruacy below 0.1. It was nice to see how that i still got some accuracy, but i am not sure if it is because of the pre-trained model.\n",
        "\n",
        "### Add trainble layers (VGG16 model is untrainble)\n",
        "After sitting for hours to figure why i was getting appalling bad results, i set the last layers to true. Mt total parameters were 11 million but 0 trainable.\n",
        "\n",
        "model:\n",
        "\n",
        "x = keras.layers.BatchNormalization(axis=-1)(x)  \n",
        "x = Flatten()(x)\n",
        "x = Dense(512, activation='relu')(x)\n",
        "x = tf.keras.layers.LeakyReLU(alpha=0.1)(x)\n",
        "x = Dense(units=num_classes, activation='softmax')(x)\n",
        "\n",
        "The result jumped to 89.9%. One interesting trend i noted when i was trying to fine tune my additional layers was that my val_acc was 94% while the test_acc seemed low in comparison: 3-4% lower.\n",
        "\n",
        "### Scaling the image even further\n",
        "Applying the same model above, I scaled the image to (64,4). The test accuracy increased to 91.6%, but the val_accuracy was much higher still, so i guess it is over generalizing.\n",
        "\n",
        "### Decreasing the patience on the EarlyStopping\n",
        "I noticed that my (EarlyStopping) callbacks[0].patience = 10. Which is probably the reason for such early overfitting. I decreased the patience to 5 and instead of finishing on epoch 11, it finished on epoch 7. The result was 4 less epochs and a test_acc = 93%\n",
        "\n",
        "### Further tweaks\n",
        "I tried fiddling with the the image scale equal to (128,128) and (32,32), batch size equal to 28 or 128, and patience equal to 3 or 5, but they result was all relatively the same test_accuracy: 0.921. There wasn't much of a difference between the different tuning that are worth noting, and they all were on average 1% worse than my 93% attained earlier.\n",
        "\n",
        "### Further analysis\n",
        "Interesting tests for further analysis is to train blocks between untrained blocks -- test if that is even possible and its result."
      ],
      "metadata": {
        "id": "x0C6ngDQeqkU"
      }
    },
    {
      "cell_type": "markdown",
      "source": [
        "# Fine-tuning our model"
      ],
      "metadata": {
        "id": "du7wtW2KALKZ"
      }
    },
    {
      "cell_type": "code",
      "source": [
        "# Define out vgg_model\n",
        "vgg_model = VGG16(    include_top=False,\n",
        "                      weights=\"imagenet\",\n",
        "                      input_tensor= None,\n",
        "                      input_shape = input_shape,\n",
        "                      pooling=None,\n",
        "                      classes=10,\n",
        "                      classifier_activation=\"softmax\",\n",
        "                 )\n",
        "\n",
        "# Creating dictionary that maps layer names to the layers\n",
        "layer_dict = dict([(layer.name, layer) for layer in vgg_model.layers])\n",
        "\n",
        "# Getting output tensor of the last VGG layer that we want to include\n",
        "x = layer_dict['block4_pool'].output\n",
        "\n",
        "# Stacking a new simple convolutional network on top of it\n",
        "x = keras.layers.BatchNormalization(axis=-1)(x)\n",
        "x = Flatten()(x)\n",
        "x = Dense(512, activation='relu')(x)\n",
        "x = tf.keras.layers.LeakyReLU(alpha=0.1)(x)\n",
        "x = Dense(units=num_classes, activation='softmax')(x)\n",
        "\n",
        "# Creating new model. Please note that this is NOT a Sequential() model.\n",
        "from keras.models import Model\n",
        "model = Model(vgg_model.input, x)\n",
        "\n",
        "# Adjust the trainable layers are not trainable\n",
        "for layer in model.layers[0:10]:\n",
        "    layer.trainable = False\n",
        "\n",
        "model.summary()"
      ],
      "metadata": {
        "id": "jDvaCCBCAFnQ",
        "colab": {
          "base_uri": "https://localhost:8080/"
        },
        "outputId": "b5ef6fa7-5430-4826-be57-32c336345e1c"
      },
      "execution_count": null,
      "outputs": [
        {
          "output_type": "stream",
          "name": "stdout",
          "text": [
            "Model: \"model_12\"\n",
            "_________________________________________________________________\n",
            " Layer (type)                Output Shape              Param #   \n",
            "=================================================================\n",
            " input_13 (InputLayer)       [(None, 64, 64, 3)]       0         \n",
            "                                                                 \n",
            " block1_conv1 (Conv2D)       (None, 64, 64, 64)        1792      \n",
            "                                                                 \n",
            " block1_conv2 (Conv2D)       (None, 64, 64, 64)        36928     \n",
            "                                                                 \n",
            " block1_pool (MaxPooling2D)  (None, 32, 32, 64)        0         \n",
            "                                                                 \n",
            " block2_conv1 (Conv2D)       (None, 32, 32, 128)       73856     \n",
            "                                                                 \n",
            " block2_conv2 (Conv2D)       (None, 32, 32, 128)       147584    \n",
            "                                                                 \n",
            " block2_pool (MaxPooling2D)  (None, 16, 16, 128)       0         \n",
            "                                                                 \n",
            " block3_conv1 (Conv2D)       (None, 16, 16, 256)       295168    \n",
            "                                                                 \n",
            " block3_conv2 (Conv2D)       (None, 16, 16, 256)       590080    \n",
            "                                                                 \n",
            " block3_conv3 (Conv2D)       (None, 16, 16, 256)       590080    \n",
            "                                                                 \n",
            " block3_pool (MaxPooling2D)  (None, 8, 8, 256)         0         \n",
            "                                                                 \n",
            " block4_conv1 (Conv2D)       (None, 8, 8, 512)         1180160   \n",
            "                                                                 \n",
            " block4_conv2 (Conv2D)       (None, 8, 8, 512)         2359808   \n",
            "                                                                 \n",
            " block4_conv3 (Conv2D)       (None, 8, 8, 512)         2359808   \n",
            "                                                                 \n",
            " block4_pool (MaxPooling2D)  (None, 4, 4, 512)         0         \n",
            "                                                                 \n",
            " batch_normalization_12 (Bat  (None, 4, 4, 512)        2048      \n",
            " chNormalization)                                                \n",
            "                                                                 \n",
            " flatten_12 (Flatten)        (None, 8192)              0         \n",
            "                                                                 \n",
            " dense_24 (Dense)            (None, 512)               4194816   \n",
            "                                                                 \n",
            " leaky_re_lu_12 (LeakyReLU)  (None, 512)               0         \n",
            "                                                                 \n",
            " dense_25 (Dense)            (None, 10)                5130      \n",
            "                                                                 \n",
            "=================================================================\n",
            "Total params: 11,837,258\n",
            "Trainable params: 10,100,746\n",
            "Non-trainable params: 1,736,512\n",
            "_________________________________________________________________\n"
          ]
        }
      ]
    },
    {
      "cell_type": "markdown",
      "source": [
        "## Analysis\n",
        "\n",
        "I was able to attain a 94.1% accuracy!\n",
        "\n",
        "**The model i was using was the same for all of the different experiments**\n",
        "\n",
        "* x = keras.layers.BatchNormalization(axis=-1)(x)  \n",
        "* x = Flatten()(x)\n",
        "* x = Dense(512, activation='relu')(x)\n",
        "* x = tf.keras.layers.LeakyReLU(alpha=0.1)(x)\n",
        "* x = Dense(units=num_classes, activation='softmax')(x)\n",
        "\n",
        "I will be fine-tuning the model by benchmarking the best amount of blocks to set to untrainable from pre-trained VGG16 model.\n",
        "\n",
        "### Block3_pool (10 million params, 8 million trainable)\n",
        "\n",
        "I started with block3_pool, which was the best fit for my previous attempt, but the result were underwhelming: capping at 92.6% accuracy in comparison to 92.7% to 93% with fewer parameter.\n",
        "\n",
        "attempt 1: I tried untrainble={block1} and the rest trainble, and the model was quicking overfitting at the best_epoch = 3. test_acc = 0.981.\n",
        "\n",
        "attempt 2: I tried untrainble={block1, block2} and the rest trainble, and the model was much more robust (train_acc and val_acc had a strong corelation) and only starting overfitting at the best_epoch = 9. test_acc = 0.926\n",
        "\n",
        "### Block4_pool (11,837k params)\n",
        "\n",
        "I started decided to increase to amount of blocks to 4, as i noticed more untrainable pre trained layers led often to better result, so in order to have 3 blocks of untrainble pre-trained layers to further build on to fine tune my model.\n",
        "\n",
        "attempt 3: I tried untrainble={block1, block2, block3} and trainble={block4}, and the model was very robust (train_acc and val_acc were spot on) and only starting overfitting at the best_epoch = 7. test_acc = 0.941! I still cannot figure out the anomalous outlier at epoch 2: insansely low val_acc and high  val_loss. I left the graph and accuracy evalutaton as is, but the compilation i changed to test other models. (10,100k trainable params)\n",
        "\n",
        "attempt 4: I tried untrainble={block1, block2} and trainble={block3, block4}, and the model was fluctuating (train_acc and val_acc were spot on) and starting overfitting fast with best_epoch = 5. test_acc = 0.899.\n",
        "\n",
        "### Block5_pool\n",
        "\n",
        "I tested 5 block to see if the trend, more blocks = higher accuracy, continues. However, this wasn't the case. test_acc was at best 90.3%.\n",
        "\n",
        "### Conclusion\n",
        "\n",
        "block4_pool attempt 3 was the sweet spot between underfittg and overfitting.\n"
      ],
      "metadata": {
        "id": "HzcCnE2hjeBm"
      }
    },
    {
      "cell_type": "markdown",
      "source": [
        "# Applying the Xception model"
      ],
      "metadata": {
        "id": "bmJhr3q52t0d"
      }
    },
    {
      "cell_type": "code",
      "source": [
        "# Redefine the parameters\n",
        "IMG_WIDTH = 128\n",
        "IMG_HEIGHT = 128\n",
        "IMG_DEPTH = 3 #the img_transform changes 1 to 3 automatically when greyscale.to.rgb is called\n",
        "input_shape = (IMG_WIDTH, IMG_HEIGHT, IMG_DEPTH)\n",
        "\n",
        "# Define out vgg_model\n",
        "xception_model = Xception(    include_top=False,\n",
        "                      weights=\"imagenet\",\n",
        "                      input_tensor= None,\n",
        "                      input_shape = input_shape,\n",
        "                      pooling=None,\n",
        "                      classes=10,\n",
        "                      classifier_activation=\"softmax\",\n",
        "                 )\n",
        "\n",
        "# Creating dictionary that maps layer names to the layers\n",
        "layer_dict = dict([(layer.name, layer) for layer in vgg_model.layers])\n",
        "\n",
        "# Getting output tensor of the last VGG layer that we want to include\n",
        "x = layer_dict['block4_pool'].output\n",
        "\n",
        "# Stacking a new simple convolutional network on top of it\n",
        "x = Flatten()(x)\n",
        "x = Dense(512, activation='relu')(x)\n",
        "x = tf.keras.layers.LeakyReLU(alpha=0.1)(x)\n",
        "x = Dense(units=num_classes, activation='softmax')(x)\n",
        "\n",
        "# Creating new model. Please note that this is NOT a Sequential() model.\n",
        "from keras.models import Model\n",
        "model = Model(vgg_model.input, x)\n",
        "\n",
        "# Adjust the trainable layers are not trainable\n",
        "for layer in model.layers[0:-14]:\n",
        "    layer.trainable = False\n",
        "\n",
        "model.summary()"
      ],
      "metadata": {
        "colab": {
          "base_uri": "https://localhost:8080/"
        },
        "id": "hlH4qExO2ru9",
        "outputId": "60c06049-be87-4205-b49d-17f75488565c"
      },
      "execution_count": null,
      "outputs": [
        {
          "output_type": "stream",
          "name": "stdout",
          "text": [
            "Model: \"model_4\"\n",
            "__________________________________________________________________________________________________\n",
            " Layer (type)                   Output Shape         Param #     Connected to                     \n",
            "==================================================================================================\n",
            " input_14 (InputLayer)          [(None, 128, 128, 3  0           []                               \n",
            "                                )]                                                                \n",
            "                                                                                                  \n",
            " block1_conv1 (Conv2D)          (None, 63, 63, 32)   864         ['input_14[0][0]']               \n",
            "                                                                                                  \n",
            " block1_conv1_bn (BatchNormaliz  (None, 63, 63, 32)  128         ['block1_conv1[0][0]']           \n",
            " ation)                                                                                           \n",
            "                                                                                                  \n",
            " block1_conv1_act (Activation)  (None, 63, 63, 32)   0           ['block1_conv1_bn[0][0]']        \n",
            "                                                                                                  \n",
            " block1_conv2 (Conv2D)          (None, 61, 61, 64)   18432       ['block1_conv1_act[0][0]']       \n",
            "                                                                                                  \n",
            " block1_conv2_bn (BatchNormaliz  (None, 61, 61, 64)  256         ['block1_conv2[0][0]']           \n",
            " ation)                                                                                           \n",
            "                                                                                                  \n",
            " block1_conv2_act (Activation)  (None, 61, 61, 64)   0           ['block1_conv2_bn[0][0]']        \n",
            "                                                                                                  \n",
            " block2_sepconv1 (SeparableConv  (None, 61, 61, 128)  8768       ['block1_conv2_act[0][0]']       \n",
            " 2D)                                                                                              \n",
            "                                                                                                  \n",
            " block2_sepconv1_bn (BatchNorma  (None, 61, 61, 128)  512        ['block2_sepconv1[0][0]']        \n",
            " lization)                                                                                        \n",
            "                                                                                                  \n",
            " block2_sepconv2_act (Activatio  (None, 61, 61, 128)  0          ['block2_sepconv1_bn[0][0]']     \n",
            " n)                                                                                               \n",
            "                                                                                                  \n",
            " block2_sepconv2 (SeparableConv  (None, 61, 61, 128)  17536      ['block2_sepconv2_act[0][0]']    \n",
            " 2D)                                                                                              \n",
            "                                                                                                  \n",
            " block2_sepconv2_bn (BatchNorma  (None, 61, 61, 128)  512        ['block2_sepconv2[0][0]']        \n",
            " lization)                                                                                        \n",
            "                                                                                                  \n",
            " conv2d_52 (Conv2D)             (None, 31, 31, 128)  8192        ['block1_conv2_act[0][0]']       \n",
            "                                                                                                  \n",
            " block2_pool (MaxPooling2D)     (None, 31, 31, 128)  0           ['block2_sepconv2_bn[0][0]']     \n",
            "                                                                                                  \n",
            " batch_normalization_53 (BatchN  (None, 31, 31, 128)  512        ['conv2d_52[0][0]']              \n",
            " ormalization)                                                                                    \n",
            "                                                                                                  \n",
            " add_156 (Add)                  (None, 31, 31, 128)  0           ['block2_pool[0][0]',            \n",
            "                                                                  'batch_normalization_53[0][0]'] \n",
            "                                                                                                  \n",
            " block3_sepconv1_act (Activatio  (None, 31, 31, 128)  0          ['add_156[0][0]']                \n",
            " n)                                                                                               \n",
            "                                                                                                  \n",
            " block3_sepconv1 (SeparableConv  (None, 31, 31, 256)  33920      ['block3_sepconv1_act[0][0]']    \n",
            " 2D)                                                                                              \n",
            "                                                                                                  \n",
            " block3_sepconv1_bn (BatchNorma  (None, 31, 31, 256)  1024       ['block3_sepconv1[0][0]']        \n",
            " lization)                                                                                        \n",
            "                                                                                                  \n",
            " block3_sepconv2_act (Activatio  (None, 31, 31, 256)  0          ['block3_sepconv1_bn[0][0]']     \n",
            " n)                                                                                               \n",
            "                                                                                                  \n",
            " block3_sepconv2 (SeparableConv  (None, 31, 31, 256)  67840      ['block3_sepconv2_act[0][0]']    \n",
            " 2D)                                                                                              \n",
            "                                                                                                  \n",
            " block3_sepconv2_bn (BatchNorma  (None, 31, 31, 256)  1024       ['block3_sepconv2[0][0]']        \n",
            " lization)                                                                                        \n",
            "                                                                                                  \n",
            " conv2d_53 (Conv2D)             (None, 16, 16, 256)  32768       ['add_156[0][0]']                \n",
            "                                                                                                  \n",
            " block3_pool (MaxPooling2D)     (None, 16, 16, 256)  0           ['block3_sepconv2_bn[0][0]']     \n",
            "                                                                                                  \n",
            " batch_normalization_54 (BatchN  (None, 16, 16, 256)  1024       ['conv2d_53[0][0]']              \n",
            " ormalization)                                                                                    \n",
            "                                                                                                  \n",
            " add_157 (Add)                  (None, 16, 16, 256)  0           ['block3_pool[0][0]',            \n",
            "                                                                  'batch_normalization_54[0][0]'] \n",
            "                                                                                                  \n",
            " block4_sepconv1_act (Activatio  (None, 16, 16, 256)  0          ['add_157[0][0]']                \n",
            " n)                                                                                               \n",
            "                                                                                                  \n",
            " block4_sepconv1 (SeparableConv  (None, 16, 16, 728)  188672     ['block4_sepconv1_act[0][0]']    \n",
            " 2D)                                                                                              \n",
            "                                                                                                  \n",
            " block4_sepconv1_bn (BatchNorma  (None, 16, 16, 728)  2912       ['block4_sepconv1[0][0]']        \n",
            " lization)                                                                                        \n",
            "                                                                                                  \n",
            " block4_sepconv2_act (Activatio  (None, 16, 16, 728)  0          ['block4_sepconv1_bn[0][0]']     \n",
            " n)                                                                                               \n",
            "                                                                                                  \n",
            " block4_sepconv2 (SeparableConv  (None, 16, 16, 728)  536536     ['block4_sepconv2_act[0][0]']    \n",
            " 2D)                                                                                              \n",
            "                                                                                                  \n",
            " block4_sepconv2_bn (BatchNorma  (None, 16, 16, 728)  2912       ['block4_sepconv2[0][0]']        \n",
            " lization)                                                                                        \n",
            "                                                                                                  \n",
            " block4_pool (MaxPooling2D)     (None, 8, 8, 728)    0           ['block4_sepconv2_bn[0][0]']     \n",
            "                                                                                                  \n",
            " flatten_4 (Flatten)            (None, 46592)        0           ['block4_pool[0][0]']            \n",
            "                                                                                                  \n",
            " dense_8 (Dense)                (None, 512)          23855616    ['flatten_4[0][0]']              \n",
            "                                                                                                  \n",
            " leaky_re_lu_4 (LeakyReLU)      (None, 512)          0           ['dense_8[0][0]']                \n",
            "                                                                                                  \n",
            " dense_9 (Dense)                (None, 10)           5130        ['leaky_re_lu_4[0][0]']          \n",
            "                                                                                                  \n",
            "==================================================================================================\n",
            "Total params: 24,785,090\n",
            "Trainable params: 24,589,378\n",
            "Non-trainable params: 195,712\n",
            "__________________________________________________________________________________________________\n"
          ]
        }
      ]
    },
    {
      "cell_type": "markdown",
      "source": [
        "## Analysis\n",
        "\n",
        "### Including the whole model\n",
        "\n",
        "The result were much worse (0.857), parameters were 3 times higher (30 million compared to 10 million), and resizing of images to (71,71,3). The RAM and GPU consumption was high.\n",
        "\n",
        "I will approach fine-tuning the model by benchmarking the best amount of blocks to set to untrainable from pre-trained VGG16 model, as done above.\n",
        "\n",
        "\n",
        "### Block10/8/6_sepconv3_bn with untrainable layers [0:-5/-11]\n",
        "\n",
        "I tried benchmarking the different layers to add to analyze a trend. The less blocks i included, the better, as generalization was a problem. Xception does use a lot of regulization to reduce overtraining, thinking of all the activiations, batch normalization and pooling, yet this was not enough. I couldn't get a good fitting model. the results varried from 0.883 to 0.922 (block5_sepconv3_bn with [0:-14] layers untrainable)\n",
        "\n",
        "### Block4_pool and lower.\n",
        "\n",
        "This part of the model, the beginning, is really similar to the VGG16 model. So i tried my best to find a tuning better while including the addition blocks, however, restricting the layers to Block4_pool with [0:-14] seem to dwarf previous results.\n",
        "\n",
        "For further analysis, fine_tune the trainable layers while using Block4_pool,\n",
        "\n",
        "### Overall thoughts\n",
        "\n",
        "I feel like the Xception has potential to rival VGG16, but considering how small our images is, i need to scale up the picture even more to utilize all the layers the Xception is meant to provide. this becomes a question of resource as VGG16 preforms most probably slightly worse. Is the extra training worth."
      ],
      "metadata": {
        "id": "GGVuhViTFEja"
      }
    }
  ]
}