{
  "cells": [
    {
      "cell_type": "markdown",
      "metadata": {
        "id": "view-in-github",
        "colab_type": "text"
      },
      "source": [
        "<a href=\"https://colab.research.google.com/github/Hadi-Saghir/Deep-Learning-Notebooks/blob/main/Lab_4_(1_3)_5TF078_Hadi_Saghir.ipynb\" target=\"_parent\"><img src=\"https://colab.research.google.com/assets/colab-badge.svg\" alt=\"Open In Colab\"/></a>"
      ]
    },
    {
      "cell_type": "markdown",
      "metadata": {
        "id": "T3K30FLPf78B"
      },
      "source": [
        "#**Lab 4: Laboration tal- och textigenkänning**\n",
        "## Author: Hadi Saghir (hasa0182)\n",
        "\n",
        "This lab will demonstrate knowledge and ability to apply a recurrent neural network (RNN) model to make prediction on time series.\n",
        "\n",
        "This document will contain following parts:\n",
        "- Embedding\n",
        "- IMDB reviews\n",
        "- BERT"
      ]
    },
    {
      "cell_type": "markdown",
      "source": [
        "#Embedding\n",
        "\n",
        "I will embed different names with their corresponding religions. I will be using the Big Five world religions: Christianity, Islam, Judism, Hinduism and Buddhism. I will embed 10 names per religion, amount to 50 names in total."
      ],
      "metadata": {
        "id": "J4-WUbEHXvG0"
      }
    },
    {
      "cell_type": "code",
      "source": [
        "!pip install gensim\n",
        "from gensim.models import KeyedVectors"
      ],
      "metadata": {
        "colab": {
          "base_uri": "https://localhost:8080/"
        },
        "id": "0NXAiGOWCMcH",
        "outputId": "ff9d4d74-0078-45ff-b5cd-989201a9813e"
      },
      "execution_count": null,
      "outputs": [
        {
          "output_type": "stream",
          "name": "stdout",
          "text": [
            "Looking in indexes: https://pypi.org/simple, https://us-python.pkg.dev/colab-wheels/public/simple/\n",
            "Requirement already satisfied: gensim in /usr/local/lib/python3.8/dist-packages (3.6.0)\n",
            "Requirement already satisfied: scipy>=0.18.1 in /usr/local/lib/python3.8/dist-packages (from gensim) (1.7.3)\n",
            "Requirement already satisfied: six>=1.5.0 in /usr/local/lib/python3.8/dist-packages (from gensim) (1.15.0)\n",
            "Requirement already satisfied: smart-open>=1.2.1 in /usr/local/lib/python3.8/dist-packages (from gensim) (6.3.0)\n",
            "Requirement already satisfied: numpy>=1.11.3 in /usr/local/lib/python3.8/dist-packages (from gensim) (1.21.6)\n"
          ]
        }
      ]
    },
    {
      "cell_type": "code",
      "source": [
        "from gensim.models import Word2Vec\n",
        "\n",
        "# I picked a list on the internet of the most common names\n",
        "\n",
        "# Names with their corresponding religions (names overlap)\n",
        "names = [\n",
        "    ('Muhammad', 'Islam'), ('Ali', 'Islam'), ('Fatima', 'Islam'), ('Aisha', 'Islam'),\n",
        "    ('Hassan', 'Islam'), ('Fatimah', 'Islam'), ('Ahmad', 'Islam'), ('Abdullah', 'Islam'),\n",
        "    ('Hasan', 'Islam'), ('Maryam', 'Islam'), ('Michael', 'Christianity'), ('Joshua', 'Christianity'),\n",
        "    ('Matthew', 'Christianity'), ('David', 'Christianity'), ('James', 'Christianity'),\n",
        "    ('Joseph', 'Christianity'), ('John', 'Christianity'), ('Christopher', 'Christianity'),\n",
        "    ('Daniel', 'Christianity'), ('Anthony', 'Christianity'), ('Isaac', 'Judaism'),\n",
        "    ('Aaron', 'Judaism'), ('Jacob', 'Judaism'), ('Moses', 'Judaism'), ('Samuel', 'Judaism'),\n",
        "    ('David', 'Judaism'), ('Joseph', 'Judaism'), ('Joshua', 'Judaism'), ('Daniel', 'Judaism'),\n",
        "    ('Shimon', 'Judaism'), ('Vishnu', 'Hinduism'), ('Krishna', 'Hinduism'), ('Rama', 'Hinduism'),\n",
        "    ('Shiva', 'Hinduism'), ('Devi', 'Hinduism'), ('Durga', 'Hinduism'), ('Lakshmi', 'Hinduism'),\n",
        "    ('Saraswathi', 'Hinduism'), ('Hanuman', 'Hinduism'), ('Ganesh', 'Hinduism'),\n",
        "    ('Siddhartha', 'Buddhism'), ('Buddha', 'Buddhism'), ('Dharma', 'Buddhism'),\n",
        "    ('Sangha', 'Buddhism'), ('Karma', 'Buddhism'), ('Nirvana', 'Buddhism'), ('Bhikku', 'Buddhism'),\n",
        "    ('Ananda', 'Buddhism'), ('Dhamma', 'Buddhism'), ('Kuan Yin', 'Buddhism')\n",
        "]\n",
        "\n",
        "# Creating a Word2Vec model and training it on the names\n",
        "model = Word2Vec(names, min_count=1)\n",
        "\n",
        "# Embedding the names\n",
        "name_vectors = model.wv\n",
        "\n",
        "# Checking the embedding for a specific name\n",
        "print(name_vectors['Muhammad'].shape)"
      ],
      "metadata": {
        "colab": {
          "base_uri": "https://localhost:8080/"
        },
        "id": "0OAkKDt9s8_0",
        "outputId": "e86e9da3-ec6a-4bd8-d133-f3311ef8a51a"
      },
      "execution_count": null,
      "outputs": [
        {
          "output_type": "stream",
          "name": "stderr",
          "text": [
            "WARNING:gensim.models.base_any2vec:under 10 jobs per worker: consider setting a smaller `batch_words' for smoother alpha decay\n"
          ]
        },
        {
          "output_type": "stream",
          "name": "stdout",
          "text": [
            "(100,)\n"
          ]
        }
      ]
    },
    {
      "cell_type": "code",
      "source": [
        "# checking the similarity between two names (the result vary quite every run)\n",
        "print(name_vectors.similarity('Muhammad', 'Hassan')) # Output: 0.16019943\n",
        "print(name_vectors.similarity('Sangha', 'David')) # Output: -0.051387083"
      ],
      "metadata": {
        "colab": {
          "base_uri": "https://localhost:8080/"
        },
        "id": "A2QpMsu83Q6d",
        "outputId": "f2083a5e-27b8-4298-d412-6e365eb06e36"
      },
      "execution_count": null,
      "outputs": [
        {
          "output_type": "stream",
          "name": "stdout",
          "text": [
            "-0.089486286\n",
            "0.09042595\n"
          ]
        }
      ]
    },
    {
      "cell_type": "code",
      "source": [
        "import numpy as np\n",
        "import random\n",
        "vocab = random.sample(list(name_vectors.vocab), 51)"
      ],
      "metadata": {
        "id": "GqcrAB-F89ux"
      },
      "execution_count": null,
      "outputs": []
    },
    {
      "cell_type": "code",
      "source": [
        "X = np.array([name_vectors[v] for v in vocab])"
      ],
      "metadata": {
        "id": "gewpDmp76Lbi"
      },
      "execution_count": null,
      "outputs": []
    },
    {
      "cell_type": "code",
      "source": [
        "import matplotlib.pyplot as plt\n",
        "from sklearn.manifold import TSNE\n",
        "tsne = TSNE(n_components=2, random_state=0)\n",
        "np.set_printoptions(suppress=True)\n",
        "\n",
        "\n",
        "Y = tsne.fit_transform(X)\n",
        "\n",
        "plt.scatter(Y[:, 0], Y[:, 1])\n",
        "for label, x, y in zip(vocab, Y[:, 0], Y[:, 1]):\n",
        "    plt.annotate(label, xy=(x, y), xytext=(0, 0), textcoords='offset points')\n",
        "plt.show()"
      ],
      "metadata": {
        "colab": {
          "base_uri": "https://localhost:8080/",
          "height": 358
        },
        "id": "ijlfpTP96CTp",
        "outputId": "0427ba46-08fc-4b89-fbbc-b16734184316"
      },
      "execution_count": null,
      "outputs": [
        {
          "output_type": "stream",
          "name": "stderr",
          "text": [
            "/usr/local/lib/python3.8/dist-packages/sklearn/manifold/_t_sne.py:780: FutureWarning: The default initialization in TSNE will change from 'random' to 'pca' in 1.2.\n",
            "  warnings.warn(\n",
            "/usr/local/lib/python3.8/dist-packages/sklearn/manifold/_t_sne.py:790: FutureWarning: The default learning rate in TSNE will change from 200.0 to 'auto' in 1.2.\n",
            "  warnings.warn(\n"
          ]
        },
        {
          "output_type": "display_data",
          "data": {
            "text/plain": [
              "<Figure size 432x288 with 1 Axes>"
            ],
            "image/png": "[encoded data removed]"
          },
          "metadata": {
            "needs_background": "light"
          }
        }
      ]
    }
  ],
  "metadata": {
    "colab": {
      "provenance": [],
      "collapsed_sections": [
        "J4-WUbEHXvG0",
        "OC3o7KdrH6Q-",
        "JC29sVn-INNA",
        "Diz3SdpPPvlJ",
        "WRp0_D3mPyxS",
        "QofCrSugSXaZ",
        "h6gLQ2zqhhOW"
      ],
      "authorship_tag": "ABX9TyOKia9Fq/BV9C4U43Dc9BjZ",
      "include_colab_link": true
    },
    "kernelspec": {
      "display_name": "Python 3",
      "name": "python3"
    },
    "language_info": {
      "name": "python"
    },
    "accelerator": "GPU",
    "gpuClass": "standard"
  },
  "nbformat": 4,
  "nbformat_minor": 0
}