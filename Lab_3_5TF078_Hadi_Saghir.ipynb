{
  "nbformat": 4,
  "nbformat_minor": 0,
  "metadata": {
    "colab": {
      "provenance": [],
      "toc_visible": true,
      "collapsed_sections": [
        "OWzaQbMCDivB",
        "cNDyrva49RIO",
        "Q_F-hT-E8jRq"
      ]
    },
    "kernelspec": {
      "name": "python3",
      "display_name": "Python 3"
    },
    "language_info": {
      "name": "python"
    },
    "accelerator": "GPU",
    "gpuClass": "standard"
  },
  "cells": [
    {
      "cell_type": "markdown",
      "source": [
        "#**Lab 3: tidssekvenser och återkopplade neuronnät**\n",
        "## Author: Hadi Saghir (hasa0182)\n",
        "\n",
        "This lab will demonstrate knowledge and ability to apply a recurrent neural network (RNN) model to make prediction on time series.\n",
        "\n",
        "This document will contain following parts:\n",
        "- Prelude\n",
        "- Part I\n",
        "- Part II\n",
        "- Part III\n"
      ],
      "metadata": {
        "id": "WLgdaUcFbVLW"
      }
    },
    {
      "cell_type": "markdown",
      "source": [
        "#Prelude\n",
        "\n",
        "This part is used to set up our environment. This part is copied from Googles Time series forecasting."
      ],
      "metadata": {
        "id": "gJPOJ4iUcG4Z"
      }
    },
    {
      "cell_type": "markdown",
      "source": [
        "##Imports"
      ],
      "metadata": {
        "id": "3MjvpHJMeS5R"
      }
    },
    {
      "cell_type": "code",
      "execution_count": null,
      "metadata": {
        "id": "AEQY3D_uaEvV",
        "colab": {
          "base_uri": "https://localhost:8080/"
        },
        "outputId": "9f4a2898-6e94-49a4-8248-70fbd18f2d6f"
      },
      "outputs": [
        {
          "output_type": "stream",
          "name": "stdout",
          "text": [
            "Keras version: 2.9.0\n",
            "GPU 0: Tesla T4 (UUID: GPU-3ea56870-ec63-e7bd-2340-94a73a87fa73)\n"
          ]
        }
      ],
      "source": [
        "# Python ≥3.5 is required\n",
        "import sys\n",
        "assert sys.version_info >= (3, 5)\n",
        "\n",
        "# Is this notebook running on Colab or Kaggle?\n",
        "IS_COLAB = \"google.colab\" in sys.modules\n",
        "IS_KAGGLE = \"kaggle_secrets\" in sys.modules\n",
        "\n",
        "# Scikit-Learn ≥0.20 is required\n",
        "import sklearn\n",
        "assert sklearn.__version__ >= \"0.20\"\n",
        "\n",
        "# TensorFlow ≥2.0 is required\n",
        "import tensorflow as tf\n",
        "from tensorflow import keras\n",
        "assert tf.__version__ >= \"2.0\"\n",
        "\n",
        "# TensorFlow ≥2.0 is required\n",
        "import keras\n",
        "from keras.utils import to_categorical\n",
        "from keras.models import Sequential\n",
        "from keras.layers import Conv2D, MaxPooling2D, Dense, Dropout, Flatten\n",
        "\n",
        "#from keras.layers.advanced_activations import LeakyReLU\n",
        "from keras.preprocessing.image import ImageDataGenerator\n",
        "from keras.applications import VGG16;\n",
        "from keras.applications import Xception;\n",
        "\n",
        "print('Keras version:',tf.keras.__version__)\n",
        "\n",
        "if not tf.config.list_physical_devices('GPU'):\n",
        "    print(\"No GPU was detected. LSTMs and CNNs can be very slow without a GPU.\")\n",
        "    if IS_COLAB:\n",
        "        print(\"Go to Runtime > Change runtime and select a GPU hardware accelerator.\")\n",
        "    if IS_KAGGLE:\n",
        "        print(\"Go to Settings > Accelerator and select GPU.\")\n",
        "else:\n",
        "  !nvidia-smi -L\n",
        "\n",
        "# Common imports\n",
        "import numpy as np\n",
        "import os\n",
        "from pathlib import Path\n",
        "import IPython\n",
        "import IPython.display\n",
        "import pandas as pd\n",
        "import seaborn as sns\n",
        "\n",
        "# to make this notebook's output stable across runs\n",
        "np.random.seed(42)\n",
        "tf.random.set_seed(42)\n",
        "\n",
        "# To plot pretty figures\n",
        "%matplotlib inline\n",
        "import matplotlib as mpl\n",
        "import matplotlib.pyplot as plt\n",
        "mpl.rcParams['figure.figsize'] = (8, 6)\n",
        "mpl.rcParams['axes.grid'] = False\n",
        "mpl.rc('axes', labelsize=14)\n",
        "mpl.rc('xtick', labelsize=12)\n",
        "mpl.rc('ytick', labelsize=12)\n",
        "\n",
        "# Where to save the figures\n",
        "PROJECT_ROOT_DIR = \".\"\n",
        "CHAPTER_ID = \"rnn\"\n",
        "IMAGES_PATH = os.path.join(PROJECT_ROOT_DIR, \"images\", CHAPTER_ID)\n",
        "os.makedirs(IMAGES_PATH, exist_ok=True)\n",
        "\n",
        "def save_fig(fig_id, tight_layout=True, fig_extension=\"png\", resolution=300):\n",
        "    path = os.path.join(IMAGES_PATH, fig_id + \".\" + fig_extension)\n",
        "    print(\"Saving figure\", fig_id)\n",
        "    if tight_layout:\n",
        "        plt.tight_layout()\n",
        "    plt.savefig(path, format=fig_extension, dpi=resolution)"
      ]
    },
    {
      "cell_type": "markdown",
      "source": [
        "##Dataset"
      ],
      "metadata": {
        "id": "cDqxoFUZaS9B"
      }
    },
    {
      "cell_type": "code",
      "source": [
        "zip_path = tf.keras.utils.get_file(\n",
        "    origin='https://storage.googleapis.com/tensorflow/tf-keras-datasets/jena_climate_2009_2016.csv.zip',\n",
        "    fname='jena_climate_2009_2016.csv.zip',\n",
        "    extract=True)\n",
        "csv_path, _ = os.path.splitext(zip_path)\n",
        "\n",
        "df = pd.read_csv(csv_path)\n",
        "# Slice [start:stop:step], starting from index 5 take every 6th record.\n",
        "df = df[5::6]\n",
        "\n",
        "date_time = pd.to_datetime(df.pop('Date Time'), format='%d.%m.%Y %H:%M:%S')\n",
        "\n",
        "print(\"\\n\\nThe dataset\")\n",
        "df.head()"
      ],
      "metadata": {
        "colab": {
          "base_uri": "https://localhost:8080/",
          "height": 350
        },
        "id": "2h1Qd8kmehqL",
        "outputId": "2c4e07cd-6794-462d-fcff-983c0e118e19"
      },
      "execution_count": null,
      "outputs": [
        {
          "output_type": "stream",
          "name": "stdout",
          "text": [
            "Downloading data from https://storage.googleapis.com/tensorflow/tf-keras-datasets/jena_climate_2009_2016.csv.zip\n",
            "13568290/13568290 [==============================] - 2s 0us/step\n",
            "\n",
            "\n",
            "The dataset\n"
          ]
        },
        {
          "output_type": "execute_result",
          "data": {
            "text/plain": [
              "    p (mbar)  T (degC)  Tpot (K)  Tdew (degC)  rh (%)  VPmax (mbar)  \\\n",
              "5     996.50     -8.05    265.38        -8.78    94.4          3.33   \n",
              "11    996.62     -8.88    264.54        -9.77    93.2          3.12   \n",
              "17    996.84     -8.81    264.59        -9.66    93.5          3.13   \n",
              "23    996.99     -9.05    264.34       -10.02    92.6          3.07   \n",
              "29    997.46     -9.63    263.72       -10.65    92.2          2.94   \n",
              "\n",
              "    VPact (mbar)  VPdef (mbar)  sh (g/kg)  H2OC (mmol/mol)  rho (g/m**3)  \\\n",
              "5           3.14          0.19       1.96             3.15       1307.86   \n",
              "11          2.90          0.21       1.81             2.91       1312.25   \n",
              "17          2.93          0.20       1.83             2.94       1312.18   \n",
              "23          2.85          0.23       1.78             2.85       1313.61   \n",
              "29          2.71          0.23       1.69             2.71       1317.19   \n",
              "\n",
              "    wv (m/s)  max. wv (m/s)  wd (deg)  \n",
              "5       0.21           0.63     192.7  \n",
              "11      0.25           0.63     190.3  \n",
              "17      0.18           0.63     167.2  \n",
              "23      0.10           0.38     240.0  \n",
              "29      0.40           0.88     157.0  "
            ],
            "text/html": [
              "\n",
              "  <div id=\"df-1e061b28-43cf-4693-969a-a7fa4de30f06\">\n",
              "    <div class=\"colab-df-container\">\n",
              "      <div>\n",
              "<style scoped>\n",
              "    .dataframe tbody tr th:only-of-type {\n",
              "        vertical-align: middle;\n",
              "    }\n",
              "\n",
              "    .dataframe tbody tr th {\n",
              "        vertical-align: top;\n",
              "    }\n",
              "\n",
              "    .dataframe thead th {\n",
              "        text-align: right;\n",
              "    }\n",
              "</style>\n",
              "<table border=\"1\" class=\"dataframe\">\n",
              "  <thead>\n",
              "    <tr style=\"text-align: right;\">\n",
              "      <th></th>\n",
              "      <th>p (mbar)</th>\n",
              "      <th>T (degC)</th>\n",
              "      <th>Tpot (K)</th>\n",
              "      <th>Tdew (degC)</th>\n",
              "      <th>rh (%)</th>\n",
              "      <th>VPmax (mbar)</th>\n",
              "      <th>VPact (mbar)</th>\n",
              "      <th>VPdef (mbar)</th>\n",
              "      <th>sh (g/kg)</th>\n",
              "      <th>H2OC (mmol/mol)</th>\n",
              "      <th>rho (g/m**3)</th>\n",
              "      <th>wv (m/s)</th>\n",
              "      <th>max. wv (m/s)</th>\n",
              "      <th>wd (deg)</th>\n",
              "    </tr>\n",
              "  </thead>\n",
              "  <tbody>\n",
              "    <tr>\n",
              "      <th>5</th>\n",
              "      <td>996.50</td>\n",
              "      <td>-8.05</td>\n",
              "      <td>265.38</td>\n",
              "      <td>-8.78</td>\n",
              "      <td>94.4</td>\n",
              "      <td>3.33</td>\n",
              "      <td>3.14</td>\n",
              "      <td>0.19</td>\n",
              "      <td>1.96</td>\n",
              "      <td>3.15</td>\n",
              "      <td>1307.86</td>\n",
              "      <td>0.21</td>\n",
              "      <td>0.63</td>\n",
              "      <td>192.7</td>\n",
              "    </tr>\n",
              "    <tr>\n",
              "      <th>11</th>\n",
              "      <td>996.62</td>\n",
              "      <td>-8.88</td>\n",
              "      <td>264.54</td>\n",
              "      <td>-9.77</td>\n",
              "      <td>93.2</td>\n",
              "      <td>3.12</td>\n",
              "      <td>2.90</td>\n",
              "      <td>0.21</td>\n",
              "      <td>1.81</td>\n",
              "      <td>2.91</td>\n",
              "      <td>1312.25</td>\n",
              "      <td>0.25</td>\n",
              "      <td>0.63</td>\n",
              "      <td>190.3</td>\n",
              "    </tr>\n",
              "    <tr>\n",
              "      <th>17</th>\n",
              "      <td>996.84</td>\n",
              "      <td>-8.81</td>\n",
              "      <td>264.59</td>\n",
              "      <td>-9.66</td>\n",
              "      <td>93.5</td>\n",
              "      <td>3.13</td>\n",
              "      <td>2.93</td>\n",
              "      <td>0.20</td>\n",
              "      <td>1.83</td>\n",
              "      <td>2.94</td>\n",
              "      <td>1312.18</td>\n",
              "      <td>0.18</td>\n",
              "      <td>0.63</td>\n",
              "      <td>167.2</td>\n",
              "    </tr>\n",
              "    <tr>\n",
              "      <th>23</th>\n",
              "      <td>996.99</td>\n",
              "      <td>-9.05</td>\n",
              "      <td>264.34</td>\n",
              "      <td>-10.02</td>\n",
              "      <td>92.6</td>\n",
              "      <td>3.07</td>\n",
              "      <td>2.85</td>\n",
              "      <td>0.23</td>\n",
              "      <td>1.78</td>\n",
              "      <td>2.85</td>\n",
              "      <td>1313.61</td>\n",
              "      <td>0.10</td>\n",
              "      <td>0.38</td>\n",
              "      <td>240.0</td>\n",
              "    </tr>\n",
              "    <tr>\n",
              "      <th>29</th>\n",
              "      <td>997.46</td>\n",
              "      <td>-9.63</td>\n",
              "      <td>263.72</td>\n",
              "      <td>-10.65</td>\n",
              "      <td>92.2</td>\n",
              "      <td>2.94</td>\n",
              "      <td>2.71</td>\n",
              "      <td>0.23</td>\n",
              "      <td>1.69</td>\n",
              "      <td>2.71</td>\n",
              "      <td>1317.19</td>\n",
              "      <td>0.40</td>\n",
              "      <td>0.88</td>\n",
              "      <td>157.0</td>\n",
              "    </tr>\n",
              "  </tbody>\n",
              "</table>\n",
              "</div>\n",
              "      <button class=\"colab-df-convert\" onclick=\"convertToInteractive('df-1e061b28-43cf-4693-969a-a7fa4de30f06')\"\n",
              "              title=\"Convert this dataframe to an interactive table.\"\n",
              "              style=\"display:none;\">\n",
              "        \n",
              "  <svg xmlns=\"http://www.w3.org/2000/svg\" height=\"24px\"viewBox=\"0 0 24 24\"\n",
              "       width=\"24px\">\n",
              "    <path d=\"M0 0h24v24H0V0z\" fill=\"none\"/>\n",
              "    <path d=\"M18.56 5.44l.94 2.06.94-2.06 2.06-.94-2.06-.94-.94-2.06-.94 2.06-2.06.94zm-11 1L8.5 8.5l.94-2.06 2.06-.94-2.06-.94L8.5 2.5l-.94 2.06-2.06.94zm10 10l.94 2.06.94-2.06 2.06-.94-2.06-.94-.94-2.06-.94 2.06-2.06.94z\"/><path d=\"M17.41 7.96l-1.37-1.37c-.4-.4-.92-.59-1.43-.59-.52 0-1.04.2-1.43.59L10.3 9.45l-7.72 7.72c-.78.78-.78 2.05 0 2.83L4 21.41c.39.39.9.59 1.41.59.51 0 1.02-.2 1.41-.59l7.78-7.78 2.81-2.81c.8-.78.8-2.07 0-2.86zM5.41 20L4 18.59l7.72-7.72 1.47 1.35L5.41 20z\"/>\n",
              "  </svg>\n",
              "      </button>\n",
              "      \n",
              "  <style>\n",
              "    .colab-df-container {\n",
              "      display:flex;\n",
              "      flex-wrap:wrap;\n",
              "      gap: 12px;\n",
              "    }\n",
              "\n",
              "    .colab-df-convert {\n",
              "      background-color: #E8F0FE;\n",
              "      border: none;\n",
              "      border-radius: 50%;\n",
              "      cursor: pointer;\n",
              "      display: none;\n",
              "      fill: #1967D2;\n",
              "      height: 32px;\n",
              "      padding: 0 0 0 0;\n",
              "      width: 32px;\n",
              "    }\n",
              "\n",
              "    .colab-df-convert:hover {\n",
              "      background-color: #E2EBFA;\n",
              "      box-shadow: 0px 1px 2px rgba(60, 64, 67, 0.3), 0px 1px 3px 1px rgba(60, 64, 67, 0.15);\n",
              "      fill: #174EA6;\n",
              "    }\n",
              "\n",
              "    [theme=dark] .colab-df-convert {\n",
              "      background-color: #3B4455;\n",
              "      fill: #D2E3FC;\n",
              "    }\n",
              "\n",
              "    [theme=dark] .colab-df-convert:hover {\n",
              "      background-color: #434B5C;\n",
              "      box-shadow: 0px 1px 3px 1px rgba(0, 0, 0, 0.15);\n",
              "      filter: drop-shadow(0px 1px 2px rgba(0, 0, 0, 0.3));\n",
              "      fill: #FFFFFF;\n",
              "    }\n",
              "  </style>\n",
              "\n",
              "      <script>\n",
              "        const buttonEl =\n",
              "          document.querySelector('#df-1e061b28-43cf-4693-969a-a7fa4de30f06 button.colab-df-convert');\n",
              "        buttonEl.style.display =\n",
              "          google.colab.kernel.accessAllowed ? 'block' : 'none';\n",
              "\n",
              "        async function convertToInteractive(key) {\n",
              "          const element = document.querySelector('#df-1e061b28-43cf-4693-969a-a7fa4de30f06');\n",
              "          const dataTable =\n",
              "            await google.colab.kernel.invokeFunction('convertToInteractive',\n",
              "                                                     [key], {});\n",
              "          if (!dataTable) return;\n",
              "\n",
              "          const docLinkHtml = 'Like what you see? Visit the ' +\n",
              "            '<a target=\"_blank\" href=https://colab.research.google.com/notebooks/data_table.ipynb>data table notebook</a>'\n",
              "            + ' to learn more about interactive tables.';\n",
              "          element.innerHTML = '';\n",
              "          dataTable['output_type'] = 'display_data';\n",
              "          await google.colab.output.renderOutput(dataTable, element);\n",
              "          const docLink = document.createElement('div');\n",
              "          docLink.innerHTML = docLinkHtml;\n",
              "          element.appendChild(docLink);\n",
              "        }\n",
              "      </script>\n",
              "    </div>\n",
              "  </div>\n",
              "  "
            ]
          },
          "metadata": {},
          "execution_count": 2
        }
      ]
    },
    {
      "cell_type": "code",
      "source": [
        "print(\"Graphical representation of the dataset\")\n",
        "plot_cols = ['T (degC)', 'p (mbar)', 'rho (g/m**3)']\n",
        "plot_features = df[plot_cols]\n",
        "plot_features.index = date_time\n",
        "_ = plot_features.plot(subplots=True)\n",
        "\n",
        "plot_features = df[plot_cols][:480]\n",
        "plot_features.index = date_time[:480]\n",
        "_ = plot_features.plot(subplots=True)"
      ],
      "metadata": {
        "colab": {
          "base_uri": "https://localhost:8080/",
          "height": 799
        },
        "id": "c0qkxy9noHt1",
        "outputId": "afd288cc-e45f-4a5c-96fc-06c0a5f81d1b"
      },
      "execution_count": null,
      "outputs": [
        {
          "output_type": "stream",
          "name": "stdout",
          "text": [
            "Graphical representation of the dataset\n"
          ]
        },
        {
          "output_type": "display_data",
          "data": {
            "text/plain": [
              "<Figure size 576x432 with 3 Axes>"
            ],
            "image/png": "[encoded data removed]"
          },
          "metadata": {
            "needs_background": "light"
          }
        },
        {
          "output_type": "display_data",
          "data": {
            "text/plain": [
              "<Figure size 576x432 with 3 Axes>"
            ],
            "image/png": "[encoded data removed]"
          },
          "metadata": {
            "needs_background": "light"
          }
        }
      ]
    },
    {
      "cell_type": "markdown",
      "source": [
        "##Inspect and cleanup"
      ],
      "metadata": {
        "id": "9EfKoZuVpVt-"
      }
    },
    {
      "cell_type": "code",
      "source": [
        "df.describe().transpose()"
      ],
      "metadata": {
        "colab": {
          "base_uri": "https://localhost:8080/",
          "height": 483
        },
        "id": "umjQPcgLppyA",
        "outputId": "c51a091a-73e4-435f-b01b-a64afdfe7822"
      },
      "execution_count": null,
      "outputs": [
        {
          "output_type": "execute_result",
          "data": {
            "text/plain": [
              "                   count         mean        std      min      25%      50%  \\\n",
              "p (mbar)         70091.0   989.212842   8.358886   913.60   984.20   989.57   \n",
              "T (degC)         70091.0     9.450482   8.423384   -22.76     3.35     9.41   \n",
              "Tpot (K)         70091.0   283.493086   8.504424   250.85   277.44   283.46   \n",
              "Tdew (degC)      70091.0     4.956471   6.730081   -24.80     0.24     5.21   \n",
              "rh (%)           70091.0    76.009788  16.474920    13.88    65.21    79.30   \n",
              "VPmax (mbar)     70091.0    13.576576   7.739883     0.97     7.77    11.82   \n",
              "VPact (mbar)     70091.0     9.533968   4.183658     0.81     6.22     8.86   \n",
              "VPdef (mbar)     70091.0     4.042536   4.898549     0.00     0.87     2.19   \n",
              "sh (g/kg)        70091.0     6.022560   2.655812     0.51     3.92     5.59   \n",
              "H2OC (mmol/mol)  70091.0     9.640437   4.234862     0.81     6.29     8.96   \n",
              "rho (g/m**3)     70091.0  1216.061232  39.974263  1059.45  1187.47  1213.80   \n",
              "wv (m/s)         70091.0     1.702567  65.447512 -9999.00     0.99     1.76   \n",
              "max. wv (m/s)    70091.0     2.963041  75.597657 -9999.00     1.76     2.98   \n",
              "wd (deg)         70091.0   174.789095  86.619431     0.00   125.30   198.10   \n",
              "\n",
              "                      75%      max  \n",
              "p (mbar)          994.720  1015.29  \n",
              "T (degC)           15.480    37.28  \n",
              "Tpot (K)          289.530   311.21  \n",
              "Tdew (degC)        10.080    23.06  \n",
              "rh (%)             89.400   100.00  \n",
              "VPmax (mbar)       17.610    63.77  \n",
              "VPact (mbar)       12.360    28.25  \n",
              "VPdef (mbar)        5.300    46.01  \n",
              "sh (g/kg)           7.800    18.07  \n",
              "H2OC (mmol/mol)    12.490    28.74  \n",
              "rho (g/m**3)     1242.765  1393.54  \n",
              "wv (m/s)            2.860    14.01  \n",
              "max. wv (m/s)       4.740    23.50  \n",
              "wd (deg)          234.000   360.00  "
            ],
            "text/html": [
              "\n",
              "  <div id=\"df-6956eaf7-5f0c-47bb-8211-69f06d5ffb9a\">\n",
              "    <div class=\"colab-df-container\">\n",
              "      <div>\n",
              "<style scoped>\n",
              "    .dataframe tbody tr th:only-of-type {\n",
              "        vertical-align: middle;\n",
              "    }\n",
              "\n",
              "    .dataframe tbody tr th {\n",
              "        vertical-align: top;\n",
              "    }\n",
              "\n",
              "    .dataframe thead th {\n",
              "        text-align: right;\n",
              "    }\n",
              "</style>\n",
              "<table border=\"1\" class=\"dataframe\">\n",
              "  <thead>\n",
              "    <tr style=\"text-align: right;\">\n",
              "      <th></th>\n",
              "      <th>count</th>\n",
              "      <th>mean</th>\n",
              "      <th>std</th>\n",
              "      <th>min</th>\n",
              "      <th>25%</th>\n",
              "      <th>50%</th>\n",
              "      <th>75%</th>\n",
              "      <th>max</th>\n",
              "    </tr>\n",
              "  </thead>\n",
              "  <tbody>\n",
              "    <tr>\n",
              "      <th>p (mbar)</th>\n",
              "      <td>70091.0</td>\n",
              "      <td>989.212842</td>\n",
              "      <td>8.358886</td>\n",
              "      <td>913.60</td>\n",
              "      <td>984.20</td>\n",
              "      <td>989.57</td>\n",
              "      <td>994.720</td>\n",
              "      <td>1015.29</td>\n",
              "    </tr>\n",
              "    <tr>\n",
              "      <th>T (degC)</th>\n",
              "      <td>70091.0</td>\n",
              "      <td>9.450482</td>\n",
              "      <td>8.423384</td>\n",
              "      <td>-22.76</td>\n",
              "      <td>3.35</td>\n",
              "      <td>9.41</td>\n",
              "      <td>15.480</td>\n",
              "      <td>37.28</td>\n",
              "    </tr>\n",
              "    <tr>\n",
              "      <th>Tpot (K)</th>\n",
              "      <td>70091.0</td>\n",
              "      <td>283.493086</td>\n",
              "      <td>8.504424</td>\n",
              "      <td>250.85</td>\n",
              "      <td>277.44</td>\n",
              "      <td>283.46</td>\n",
              "      <td>289.530</td>\n",
              "      <td>311.21</td>\n",
              "    </tr>\n",
              "    <tr>\n",
              "      <th>Tdew (degC)</th>\n",
              "      <td>70091.0</td>\n",
              "      <td>4.956471</td>\n",
              "      <td>6.730081</td>\n",
              "      <td>-24.80</td>\n",
              "      <td>0.24</td>\n",
              "      <td>5.21</td>\n",
              "      <td>10.080</td>\n",
              "      <td>23.06</td>\n",
              "    </tr>\n",
              "    <tr>\n",
              "      <th>rh (%)</th>\n",
              "      <td>70091.0</td>\n",
              "      <td>76.009788</td>\n",
              "      <td>16.474920</td>\n",
              "      <td>13.88</td>\n",
              "      <td>65.21</td>\n",
              "      <td>79.30</td>\n",
              "      <td>89.400</td>\n",
              "      <td>100.00</td>\n",
              "    </tr>\n",
              "    <tr>\n",
              "      <th>VPmax (mbar)</th>\n",
              "      <td>70091.0</td>\n",
              "      <td>13.576576</td>\n",
              "      <td>7.739883</td>\n",
              "      <td>0.97</td>\n",
              "      <td>7.77</td>\n",
              "      <td>11.82</td>\n",
              "      <td>17.610</td>\n",
              "      <td>63.77</td>\n",
              "    </tr>\n",
              "    <tr>\n",
              "      <th>VPact (mbar)</th>\n",
              "      <td>70091.0</td>\n",
              "      <td>9.533968</td>\n",
              "      <td>4.183658</td>\n",
              "      <td>0.81</td>\n",
              "      <td>6.22</td>\n",
              "      <td>8.86</td>\n",
              "      <td>12.360</td>\n",
              "      <td>28.25</td>\n",
              "    </tr>\n",
              "    <tr>\n",
              "      <th>VPdef (mbar)</th>\n",
              "      <td>70091.0</td>\n",
              "      <td>4.042536</td>\n",
              "      <td>4.898549</td>\n",
              "      <td>0.00</td>\n",
              "      <td>0.87</td>\n",
              "      <td>2.19</td>\n",
              "      <td>5.300</td>\n",
              "      <td>46.01</td>\n",
              "    </tr>\n",
              "    <tr>\n",
              "      <th>sh (g/kg)</th>\n",
              "      <td>70091.0</td>\n",
              "      <td>6.022560</td>\n",
              "      <td>2.655812</td>\n",
              "      <td>0.51</td>\n",
              "      <td>3.92</td>\n",
              "      <td>5.59</td>\n",
              "      <td>7.800</td>\n",
              "      <td>18.07</td>\n",
              "    </tr>\n",
              "    <tr>\n",
              "      <th>H2OC (mmol/mol)</th>\n",
              "      <td>70091.0</td>\n",
              "      <td>9.640437</td>\n",
              "      <td>4.234862</td>\n",
              "      <td>0.81</td>\n",
              "      <td>6.29</td>\n",
              "      <td>8.96</td>\n",
              "      <td>12.490</td>\n",
              "      <td>28.74</td>\n",
              "    </tr>\n",
              "    <tr>\n",
              "      <th>rho (g/m**3)</th>\n",
              "      <td>70091.0</td>\n",
              "      <td>1216.061232</td>\n",
              "      <td>39.974263</td>\n",
              "      <td>1059.45</td>\n",
              "      <td>1187.47</td>\n",
              "      <td>1213.80</td>\n",
              "      <td>1242.765</td>\n",
              "      <td>1393.54</td>\n",
              "    </tr>\n",
              "    <tr>\n",
              "      <th>wv (m/s)</th>\n",
              "      <td>70091.0</td>\n",
              "      <td>1.702567</td>\n",
              "      <td>65.447512</td>\n",
              "      <td>-9999.00</td>\n",
              "      <td>0.99</td>\n",
              "      <td>1.76</td>\n",
              "      <td>2.860</td>\n",
              "      <td>14.01</td>\n",
              "    </tr>\n",
              "    <tr>\n",
              "      <th>max. wv (m/s)</th>\n",
              "      <td>70091.0</td>\n",
              "      <td>2.963041</td>\n",
              "      <td>75.597657</td>\n",
              "      <td>-9999.00</td>\n",
              "      <td>1.76</td>\n",
              "      <td>2.98</td>\n",
              "      <td>4.740</td>\n",
              "      <td>23.50</td>\n",
              "    </tr>\n",
              "    <tr>\n",
              "      <th>wd (deg)</th>\n",
              "      <td>70091.0</td>\n",
              "      <td>174.789095</td>\n",
              "      <td>86.619431</td>\n",
              "      <td>0.00</td>\n",
              "      <td>125.30</td>\n",
              "      <td>198.10</td>\n",
              "      <td>234.000</td>\n",
              "      <td>360.00</td>\n",
              "    </tr>\n",
              "  </tbody>\n",
              "</table>\n",
              "</div>\n",
              "      <button class=\"colab-df-convert\" onclick=\"convertToInteractive('df-6956eaf7-5f0c-47bb-8211-69f06d5ffb9a')\"\n",
              "              title=\"Convert this dataframe to an interactive table.\"\n",
              "              style=\"display:none;\">\n",
              "        \n",
              "  <svg xmlns=\"http://www.w3.org/2000/svg\" height=\"24px\"viewBox=\"0 0 24 24\"\n",
              "       width=\"24px\">\n",
              "    <path d=\"M0 0h24v24H0V0z\" fill=\"none\"/>\n",
              "    <path d=\"M18.56 5.44l.94 2.06.94-2.06 2.06-.94-2.06-.94-.94-2.06-.94 2.06-2.06.94zm-11 1L8.5 8.5l.94-2.06 2.06-.94-2.06-.94L8.5 2.5l-.94 2.06-2.06.94zm10 10l.94 2.06.94-2.06 2.06-.94-2.06-.94-.94-2.06-.94 2.06-2.06.94z\"/><path d=\"M17.41 7.96l-1.37-1.37c-.4-.4-.92-.59-1.43-.59-.52 0-1.04.2-1.43.59L10.3 9.45l-7.72 7.72c-.78.78-.78 2.05 0 2.83L4 21.41c.39.39.9.59 1.41.59.51 0 1.02-.2 1.41-.59l7.78-7.78 2.81-2.81c.8-.78.8-2.07 0-2.86zM5.41 20L4 18.59l7.72-7.72 1.47 1.35L5.41 20z\"/>\n",
              "  </svg>\n",
              "      </button>\n",
              "      \n",
              "  <style>\n",
              "    .colab-df-container {\n",
              "      display:flex;\n",
              "      flex-wrap:wrap;\n",
              "      gap: 12px;\n",
              "    }\n",
              "\n",
              "    .colab-df-convert {\n",
              "      background-color: #E8F0FE;\n",
              "      border: none;\n",
              "      border-radius: 50%;\n",
              "      cursor: pointer;\n",
              "      display: none;\n",
              "      fill: #1967D2;\n",
              "      height: 32px;\n",
              "      padding: 0 0 0 0;\n",
              "      width: 32px;\n",
              "    }\n",
              "\n",
              "    .colab-df-convert:hover {\n",
              "      background-color: #E2EBFA;\n",
              "      box-shadow: 0px 1px 2px rgba(60, 64, 67, 0.3), 0px 1px 3px 1px rgba(60, 64, 67, 0.15);\n",
              "      fill: #174EA6;\n",
              "    }\n",
              "\n",
              "    [theme=dark] .colab-df-convert {\n",
              "      background-color: #3B4455;\n",
              "      fill: #D2E3FC;\n",
              "    }\n",
              "\n",
              "    [theme=dark] .colab-df-convert:hover {\n",
              "      background-color: #434B5C;\n",
              "      box-shadow: 0px 1px 3px 1px rgba(0, 0, 0, 0.15);\n",
              "      filter: drop-shadow(0px 1px 2px rgba(0, 0, 0, 0.3));\n",
              "      fill: #FFFFFF;\n",
              "    }\n",
              "  </style>\n",
              "\n",
              "      <script>\n",
              "        const buttonEl =\n",
              "          document.querySelector('#df-6956eaf7-5f0c-47bb-8211-69f06d5ffb9a button.colab-df-convert');\n",
              "        buttonEl.style.display =\n",
              "          google.colab.kernel.accessAllowed ? 'block' : 'none';\n",
              "\n",
              "        async function convertToInteractive(key) {\n",
              "          const element = document.querySelector('#df-6956eaf7-5f0c-47bb-8211-69f06d5ffb9a');\n",
              "          const dataTable =\n",
              "            await google.colab.kernel.invokeFunction('convertToInteractive',\n",
              "                                                     [key], {});\n",
              "          if (!dataTable) return;\n",
              "\n",
              "          const docLinkHtml = 'Like what you see? Visit the ' +\n",
              "            '<a target=\"_blank\" href=https://colab.research.google.com/notebooks/data_table.ipynb>data table notebook</a>'\n",
              "            + ' to learn more about interactive tables.';\n",
              "          element.innerHTML = '';\n",
              "          dataTable['output_type'] = 'display_data';\n",
              "          await google.colab.output.renderOutput(dataTable, element);\n",
              "          const docLink = document.createElement('div');\n",
              "          docLink.innerHTML = docLinkHtml;\n",
              "          element.appendChild(docLink);\n",
              "        }\n",
              "      </script>\n",
              "    </div>\n",
              "  </div>\n",
              "  "
            ]
          },
          "metadata": {},
          "execution_count": 4
        }
      ]
    },
    {
      "cell_type": "code",
      "source": [
        "wv = df['wv (m/s)']\n",
        "bad_wv = wv == -9999.0\n",
        "wv[bad_wv] = 0.0\n",
        "\n",
        "max_wv = df['max. wv (m/s)']\n",
        "bad_max_wv = max_wv == -9999.0\n",
        "max_wv[bad_max_wv] = 0.0\n",
        "\n",
        "# The above inplace edits are reflected in the DataFrame.\n",
        "df['wv (m/s)'].min()"
      ],
      "metadata": {
        "colab": {
          "base_uri": "https://localhost:8080/"
        },
        "id": "7WLp3VfhpeQ_",
        "outputId": "28851e80-58c1-414a-dad2-c482960a4898"
      },
      "execution_count": null,
      "outputs": [
        {
          "output_type": "execute_result",
          "data": {
            "text/plain": [
              "0.0"
            ]
          },
          "metadata": {},
          "execution_count": 5
        }
      ]
    },
    {
      "cell_type": "markdown",
      "source": [
        "##Time"
      ],
      "metadata": {
        "id": "-lmbnRptn6St"
      }
    },
    {
      "cell_type": "code",
      "source": [
        "timestamp_s = date_time.map(pd.Timestamp.timestamp)\n",
        "\n",
        "day = 24*60*60\n",
        "year = (365.2425)*day\n",
        "\n",
        "df['Day sin'] = np.sin(timestamp_s * (2 * np.pi / day))\n",
        "df['Day cos'] = np.cos(timestamp_s * (2 * np.pi / day))\n",
        "df['Year sin'] = np.sin(timestamp_s * (2 * np.pi / year))\n",
        "df['Year cos'] = np.cos(timestamp_s * (2 * np.pi / year))"
      ],
      "metadata": {
        "id": "Mb60JbP3n3sQ"
      },
      "execution_count": null,
      "outputs": []
    },
    {
      "cell_type": "markdown",
      "source": [
        "##Split and normalize the data"
      ],
      "metadata": {
        "id": "ddbOTvh0tC5r"
      }
    },
    {
      "cell_type": "code",
      "source": [
        "column_indices = {name: i for i, name in enumerate(df.columns)}\n",
        "\n",
        "n = len(df)\n",
        "train_df = df[0:int(n*0.7)]\n",
        "val_df = df[int(n*0.7):int(n*0.9)]\n",
        "test_df = df[int(n*0.9):]\n",
        "\n",
        "num_features = df.shape[1]\n",
        "\n",
        "train_mean = train_df.mean()\n",
        "train_std = train_df.std()\n",
        "\n",
        "train_df = (train_df - train_mean) / train_std\n",
        "val_df = (val_df - train_mean) / train_std\n",
        "test_df = (test_df - train_mean) / train_std"
      ],
      "metadata": {
        "id": "TP4YzSRCtFSj"
      },
      "execution_count": null,
      "outputs": []
    },
    {
      "cell_type": "markdown",
      "source": [
        "##Data Windowing class (plot / split window)"
      ],
      "metadata": {
        "id": "Vq0qKRPF1oAB"
      }
    },
    {
      "cell_type": "code",
      "source": [
        "## Functions copied from Google\n",
        "\n",
        "class WindowGenerator():\n",
        "  def __init__(self, input_width, label_width, shift,\n",
        "               train_df=train_df, val_df=val_df, test_df=test_df,\n",
        "               label_columns=None):\n",
        "    # Store the raw data.\n",
        "    self.train_df = train_df\n",
        "    self.val_df = val_df\n",
        "    self.test_df = test_df\n",
        "\n",
        "    # Work out the label column indices.\n",
        "    self.label_columns = label_columns\n",
        "    if label_columns is not None:\n",
        "      self.label_columns_indices = {name: i for i, name in\n",
        "                                    enumerate(label_columns)}\n",
        "    self.column_indices = {name: i for i, name in\n",
        "                           enumerate(train_df.columns)}\n",
        "\n",
        "    # Work out the window parameters.\n",
        "    self.input_width = input_width\n",
        "    self.label_width = label_width\n",
        "    self.shift = shift\n",
        "\n",
        "    self.total_window_size = input_width + shift\n",
        "\n",
        "    self.input_slice = slice(0, input_width)\n",
        "    self.input_indices = np.arange(self.total_window_size)[self.input_slice]\n",
        "\n",
        "    self.label_start = self.total_window_size - self.label_width\n",
        "    self.labels_slice = slice(self.label_start, None)\n",
        "    self.label_indices = np.arange(self.total_window_size)[self.labels_slice]\n",
        "\n",
        "  def __repr__(self):\n",
        "    return '\\n'.join([\n",
        "        f'Total window size: {self.total_window_size}',\n",
        "        f'Input indices: {self.input_indices}',\n",
        "        f'Label indices: {self.label_indices}',\n",
        "        f'Label column name(s): {self.label_columns}'])\n",
        "\n",
        "@property\n",
        "def train(self):\n",
        "  return self.make_dataset(self.train_df)\n",
        "\n",
        "@property\n",
        "def val(self):\n",
        "  return self.make_dataset(self.val_df)\n",
        "\n",
        "@property\n",
        "def test(self):\n",
        "  return self.make_dataset(self.test_df)\n",
        "\n",
        "@property\n",
        "def example(self):\n",
        "  \"\"\"Get and cache an example batch of `inputs, labels` for plotting.\"\"\"\n",
        "  result = getattr(self, '_example', None)\n",
        "  if result is None:\n",
        "    # No example batch was found, so get one from the `.train` dataset\n",
        "    result = next(iter(self.train))\n",
        "    # And cache it for next time\n",
        "    self._example = result\n",
        "  return result\n",
        "\n",
        "WindowGenerator.train = train\n",
        "WindowGenerator.val = val\n",
        "WindowGenerator.test = test\n",
        "WindowGenerator.example = example\n",
        "\n",
        "def split_window(self, features):\n",
        "  inputs = features[:, self.input_slice, :]\n",
        "  labels = features[:, self.labels_slice, :]\n",
        "  if self.label_columns is not None:\n",
        "    labels = tf.stack(\n",
        "        [labels[:, :, self.column_indices[name]] for name in self.label_columns],\n",
        "        axis=-1)\n",
        "\n",
        "  # Slicing doesn't preserve static shape information, so set the shapes\n",
        "  # manually. This way the `tf.data.Datasets` are easier to inspect.\n",
        "  inputs.set_shape([None, self.input_width, None])\n",
        "  labels.set_shape([None, self.label_width, None])\n",
        "\n",
        "  return inputs, labels\n",
        "\n",
        "WindowGenerator.split_window = split_window\n",
        "\n",
        "def plot(self, model=None, plot_col='T (degC)', max_subplots=3):\n",
        "  inputs, labels = self.example\n",
        "  plt.figure(figsize=(12, 8))\n",
        "  plot_col_index = self.column_indices[plot_col]\n",
        "  max_n = min(max_subplots, len(inputs))\n",
        "  for n in range(max_n):\n",
        "    plt.subplot(max_n, 1, n+1)\n",
        "    plt.ylabel(f'{plot_col} [normed]')\n",
        "    plt.plot(self.input_indices, inputs[n, :, plot_col_index],\n",
        "             label='Inputs', marker='.', zorder=-10)\n",
        "\n",
        "    if self.label_columns:\n",
        "      label_col_index = self.label_columns_indices.get(plot_col, None)\n",
        "    else:\n",
        "      label_col_index = plot_col_index\n",
        "\n",
        "    if label_col_index is None:\n",
        "      continue\n",
        "\n",
        "    plt.scatter(self.label_indices, labels[n, :, label_col_index],\n",
        "                edgecolors='k', label='Labels', c='#2ca02c', s=64)\n",
        "    if model is not None:\n",
        "      predictions = model(inputs)\n",
        "      plt.scatter(self.label_indices, predictions[n, :, label_col_index],\n",
        "                  marker='X', edgecolors='k', label='Predictions',\n",
        "                  c='#ff7f0e', s=64)\n",
        "\n",
        "    if n == 0:\n",
        "      plt.legend()\n",
        "\n",
        "  plt.xlabel('Time [h]')\n",
        "\n",
        "WindowGenerator.plot = plot"
      ],
      "metadata": {
        "id": "YNI8NBJM1lv5"
      },
      "execution_count": null,
      "outputs": []
    },
    {
      "cell_type": "markdown",
      "source": [
        "###Make dataset"
      ],
      "metadata": {
        "id": "OWzaQbMCDivB"
      }
    },
    {
      "cell_type": "code",
      "source": [
        "def make_dataset(self, data):\n",
        "  data = np.array(data, dtype=np.float32)\n",
        "  ds = tf.keras.utils.timeseries_dataset_from_array(\n",
        "      data=data,\n",
        "      targets=None,\n",
        "      sequence_length=self.total_window_size,\n",
        "      sequence_stride=1,\n",
        "      shuffle=True,\n",
        "      batch_size=32,)\n",
        "\n",
        "  ds = ds.map(self.split_window)\n",
        "\n",
        "  return ds\n",
        "\n",
        "WindowGenerator.make_dataset = make_dataset"
      ],
      "metadata": {
        "id": "vkvkZKSrC3XP"
      },
      "execution_count": null,
      "outputs": []
    },
    {
      "cell_type": "markdown",
      "source": [
        "##Define Baseline and compile_and_fit"
      ],
      "metadata": {
        "id": "4sQZpN7m8qER"
      }
    },
    {
      "cell_type": "code",
      "source": [
        "class Baseline(tf.keras.Model):\n",
        "  def __init__(self, label_index=None):\n",
        "    super().__init__()\n",
        "    self.label_index = label_index\n",
        "\n",
        "  def call(self, inputs):\n",
        "    if self.label_index is None:\n",
        "      return inputs\n",
        "    result = inputs[:, :, self.label_index]\n",
        "    return result[:, :, tf.newaxis]\n",
        "\n",
        "class MultiStepLastBaseline(tf.keras.Model):\n",
        "  def call(self, inputs):\n",
        "    return tf.tile(inputs[:, -1:, :], [1, OUT_STEPS, 1])\n",
        "\n",
        "class RepeatBaseline(tf.keras.Model):\n",
        "  def call(self, inputs):\n",
        "    return inputs\n",
        "\n",
        "## output = -1, feature = 1 (temp)\n",
        "def last_time_step_mse(Y_true, Y_pred):\n",
        "   return keras.metrics.mean_squared_error(Y_true[-1, 1], Y_pred[-1, 1])\n",
        "\n",
        "MAX_EPOCHS = 20\n",
        "\n",
        "def compile_and_fit(model, window, patience=2):\n",
        "  early_stopping = tf.keras.callbacks.EarlyStopping(monitor='val_loss',\n",
        "                                                    patience=patience,\n",
        "                                                    mode='min')\n",
        "\n",
        "  model.compile(loss=tf.keras.losses.MeanSquaredError(),\n",
        "                optimizer=tf.keras.optimizers.Adam(),\n",
        "                metrics=[tf.keras.metrics.MeanAbsoluteError()])\n",
        "\n",
        "  history = model.fit(window.train, epochs=MAX_EPOCHS,\n",
        "                      validation_data=window.val,\n",
        "                      callbacks=[early_stopping])\n",
        "  return history"
      ],
      "metadata": {
        "id": "2dZsUV6K8ssZ"
      },
      "execution_count": null,
      "outputs": []
    },
    {
      "cell_type": "markdown",
      "source": [
        "#Part I\n",
        "\n",
        "This part will contain the following:\n",
        "\n",
        "\n",
        "*   Description of the data processing from the prelude\n",
        "*   Reflect on the different between using loss vs other preformance metrics\n",
        "*   Train a simple LSTM model\n",
        "*   Improve my LSTM model\n",
        "*   Analysis\n",
        "\n",
        "\n"
      ],
      "metadata": {
        "id": "KGfiuRko7vcv"
      }
    },
    {
      "cell_type": "markdown",
      "source": [
        "##Descript of the data processing\n",
        "\n",
        "**Importing the dataset**\n",
        "\n",
        "TensorFlow imported a CSV of a weather dataset: measuring features over a period of time, e.g. Wind velocity (m/s) at different intervals.\n",
        "\n",
        "**Data Cleaning**\n",
        "\n",
        "The data has been cleaned to remove invalid reads:\n",
        "\n",
        "*   -9999.0 wind velocity, which is an erronous, is replaced by 0.0 as we only want to measure speed and not direction. Direction is engineered in the following part: Feature Engineering.\n",
        "\n",
        "\n",
        "**Feature engineering**\n",
        "\n",
        "Wind direction is measured in degrees but must be converted to radians in order to have a wind vector, X and Y to indicate direction.\n",
        "\n",
        "Time is also provided in seconds. However, we want to measure days and months. In order to do so, numbers are multipled to different time periods (e.g. seconds --> Days). Then using sin and cosine to fill the hours in days, for example, by encoding a continuous cyclic feature.\n"
      ],
      "metadata": {
        "id": "WHZ465aj8JV7"
      }
    },
    {
      "cell_type": "markdown",
      "source": [
        "##Measure using loss functions\n",
        "\n",
        "Accuracy is a preformance metric that measure number of correct / error. This isn't very useful in predicting as when it comes indentifying images, for example. Identifying images is true or false, it is a shirt or not. However, our model is trying to predict values. Loss measures on the the distance between the true values of the problem and the values predicted by the model. The greater the loss, the huger the error is. Loss function is thus more apt for prediction, where we focus on measuring the divergence rather than spot on predictions.\n",
        "\n",
        "Mean squared error loss (MSE) is used in the tutorial. MSE is the go to loss function in regression problems. MSE has the benefit of penalizing large errors as the loss is squared, rather than Mean absolute error loss (MAE). This also fits well with this scenario, where we want to penalize"
      ],
      "metadata": {
        "id": "OAJxGPN68B_E"
      }
    },
    {
      "cell_type": "markdown",
      "source": [
        "##Train a simple LSTM model"
      ],
      "metadata": {
        "id": "Qaze0cYM76e7"
      }
    },
    {
      "cell_type": "markdown",
      "source": [
        "###Define the window"
      ],
      "metadata": {
        "id": "cNDyrva49RIO"
      }
    },
    {
      "cell_type": "code",
      "source": [
        "simple_window = WindowGenerator(input_width=24, label_width=1, shift=24,\n",
        "                     label_columns=['T (degC)'])\n",
        "\n",
        "simple_window"
      ],
      "metadata": {
        "id": "OW_SU1m-7r44",
        "colab": {
          "base_uri": "https://localhost:8080/"
        },
        "outputId": "aaf87f1f-756a-4301-8230-15f239fa818f"
      },
      "execution_count": null,
      "outputs": [
        {
          "output_type": "execute_result",
          "data": {
            "text/plain": [
              "Total window size: 48\n",
              "Input indices: [ 0  1  2  3  4  5  6  7  8  9 10 11 12 13 14 15 16 17 18 19 20 21 22 23]\n",
              "Label indices: [47]\n",
              "Label column name(s): ['T (degC)']"
            ]
          },
          "metadata": {},
          "execution_count": 11
        }
      ]
    },
    {
      "cell_type": "markdown",
      "source": [
        "###Training the simple model"
      ],
      "metadata": {
        "id": "Q_F-hT-E8jRq"
      }
    },
    {
      "cell_type": "code",
      "source": [
        "simple_model = keras.models.Sequential([\n",
        "    keras.layers.LSTM(24, input_shape=(24, 18)),\n",
        "    keras.layers.Dense(1)\n",
        "])\n",
        "\n",
        "simple_history = compile_and_fit(simple_model, simple_window)\n",
        "\n",
        "print(\"\\n\\nTraining Ended\\n\\nEvaluation\")\n",
        "simple_model.evaluate(simple_window.val)\n",
        "print(\"\\n\\nEvaluation, Verbose = 0\")\n",
        "simple_model.evaluate(simple_window.test, verbose=0)"
      ],
      "metadata": {
        "colab": {
          "base_uri": "https://localhost:8080/"
        },
        "id": "hfmG_7Pt-Ndv",
        "outputId": "42984eb9-cce7-4a6c-c407-e84fc06ab328"
      },
      "execution_count": null,
      "outputs": [
        {
          "output_type": "stream",
          "name": "stdout",
          "text": [
            "Epoch 1/20\n",
            "1532/1532 [==============================] - 21s 7ms/step - loss: 0.1287 - mean_absolute_error: 0.2775 - val_loss: 0.1225 - val_mean_absolute_error: 0.2722\n",
            "Epoch 2/20\n",
            "1532/1532 [==============================] - 12s 8ms/step - loss: 0.1105 - mean_absolute_error: 0.2586 - val_loss: 0.1203 - val_mean_absolute_error: 0.2709\n",
            "Epoch 3/20\n",
            "1532/1532 [==============================] - 12s 8ms/step - loss: 0.1051 - mean_absolute_error: 0.2524 - val_loss: 0.1197 - val_mean_absolute_error: 0.2699\n",
            "Epoch 4/20\n",
            "1532/1532 [==============================] - 11s 7ms/step - loss: 0.1004 - mean_absolute_error: 0.2468 - val_loss: 0.1223 - val_mean_absolute_error: 0.2734\n",
            "Epoch 5/20\n",
            "1532/1532 [==============================] - 13s 8ms/step - loss: 0.0957 - mean_absolute_error: 0.2410 - val_loss: 0.1233 - val_mean_absolute_error: 0.2747\n",
            "\n",
            "\n",
            "Training Ended\n",
            "\n",
            "Evaluation\n",
            "437/437 [==============================] - 2s 6ms/step - loss: 0.1233 - mean_absolute_error: 0.2747\n",
            "\n",
            "\n",
            "Evaluation, Verbose = 0\n"
          ]
        },
        {
          "output_type": "execute_result",
          "data": {
            "text/plain": [
              "[0.10180233418941498, 0.2503214478492737]"
            ]
          },
          "metadata": {},
          "execution_count": 12
        }
      ]
    },
    {
      "cell_type": "markdown",
      "source": [
        "###Baseline our single-step, single feature results"
      ],
      "metadata": {
        "id": "dCaamWB8iexa"
      }
    },
    {
      "cell_type": "code",
      "source": [
        "ss_baseline = Baseline(label_index=column_indices['T (degC)'])\n",
        "\n",
        "ss_baseline.compile(loss=tf.keras.losses.MeanSquaredError(),\n",
        "                 metrics=[tf.keras.metrics.MeanAbsoluteError()])\n",
        "\n",
        "val_performance = {}\n",
        "performance = {}\n",
        "\n",
        "val_performance['Baseline'] = ss_baseline.evaluate(simple_window.val)\n",
        "performance['Baseline'] = ss_baseline.evaluate(simple_window.test, verbose=0)"
      ],
      "metadata": {
        "colab": {
          "base_uri": "https://localhost:8080/"
        },
        "id": "FM9HH7LQi69c",
        "outputId": "35af5c55-bd6b-4f0d-ea0b-ae4fccdfdb89"
      },
      "execution_count": null,
      "outputs": [
        {
          "output_type": "stream",
          "name": "stdout",
          "text": [
            "437/437 [==============================] - 2s 3ms/step - loss: 0.3575 - mean_absolute_error: 0.4625\n"
          ]
        }
      ]
    },
    {
      "cell_type": "markdown",
      "source": [
        "##Improved model"
      ],
      "metadata": {
        "id": "m9F7aylikZZ-"
      }
    },
    {
      "cell_type": "code",
      "source": [
        "improved_model = keras.models.Sequential([\n",
        "    keras.layers.GRU(8, return_sequences=True, input_shape=(24, 18)),\n",
        "    keras.layers.Dense(1)\n",
        "])\n",
        "\n",
        "improved_history = compile_and_fit(improved_model, simple_window)\n",
        "\n",
        "print(\"\\n\\nTraining Ended\\n\\nEvaluation\")\n",
        "val_performance['Improved'] = ss_baseline.evaluate(simple_window.val)\n",
        "performance['Improved'] = ss_baseline.evaluate(simple_window.test, verbose=0)"
      ],
      "metadata": {
        "colab": {
          "base_uri": "https://localhost:8080/"
        },
        "id": "FWw8oLA8kcvo",
        "outputId": "876cb140-25a6-4c1c-e3f9-1f8a2eac52d5"
      },
      "execution_count": null,
      "outputs": [
        {
          "output_type": "stream",
          "name": "stdout",
          "text": [
            "Epoch 1/20\n",
            "1532/1532 [==============================] - 13s 8ms/step - loss: 0.2451 - mean_absolute_error: 0.3877 - val_loss: 0.1770 - val_mean_absolute_error: 0.3317\n",
            "Epoch 2/20\n",
            "1532/1532 [==============================] - 12s 8ms/step - loss: 0.1712 - mean_absolute_error: 0.3248 - val_loss: 0.1596 - val_mean_absolute_error: 0.3144\n",
            "Epoch 3/20\n",
            "1532/1532 [==============================] - 12s 8ms/step - loss: 0.1615 - mean_absolute_error: 0.3145 - val_loss: 0.1570 - val_mean_absolute_error: 0.3128\n",
            "Epoch 4/20\n",
            "1532/1532 [==============================] - 12s 8ms/step - loss: 0.1584 - mean_absolute_error: 0.3114 - val_loss: 0.1567 - val_mean_absolute_error: 0.3117\n",
            "Epoch 5/20\n",
            "1532/1532 [==============================] - 12s 8ms/step - loss: 0.1562 - mean_absolute_error: 0.3091 - val_loss: 0.1558 - val_mean_absolute_error: 0.3114\n",
            "Epoch 6/20\n",
            "1532/1532 [==============================] - 12s 8ms/step - loss: 0.1544 - mean_absolute_error: 0.3072 - val_loss: 0.1565 - val_mean_absolute_error: 0.3122\n",
            "Epoch 7/20\n",
            "1532/1532 [==============================] - 11s 7ms/step - loss: 0.1533 - mean_absolute_error: 0.3061 - val_loss: 0.1542 - val_mean_absolute_error: 0.3097\n",
            "Epoch 8/20\n",
            "1532/1532 [==============================] - 12s 8ms/step - loss: 0.1521 - mean_absolute_error: 0.3048 - val_loss: 0.1532 - val_mean_absolute_error: 0.3084\n",
            "Epoch 9/20\n",
            "1532/1532 [==============================] - 12s 8ms/step - loss: 0.1512 - mean_absolute_error: 0.3039 - val_loss: 0.1533 - val_mean_absolute_error: 0.3090\n",
            "Epoch 10/20\n",
            "1532/1532 [==============================] - 12s 8ms/step - loss: 0.1505 - mean_absolute_error: 0.3031 - val_loss: 0.1515 - val_mean_absolute_error: 0.3067\n",
            "Epoch 11/20\n",
            "1532/1532 [==============================] - 12s 8ms/step - loss: 0.1496 - mean_absolute_error: 0.3023 - val_loss: 0.1523 - val_mean_absolute_error: 0.3074\n",
            "Epoch 12/20\n",
            "1532/1532 [==============================] - 12s 8ms/step - loss: 0.1488 - mean_absolute_error: 0.3015 - val_loss: 0.1523 - val_mean_absolute_error: 0.3079\n",
            "\n",
            "\n",
            "Training Ended\n",
            "\n",
            "Evaluation\n",
            "437/437 [==============================] - 2s 4ms/step - loss: 0.3575 - mean_absolute_error: 0.4625\n"
          ]
        }
      ]
    },
    {
      "cell_type": "markdown",
      "source": [
        "###Analysis of the improved model\n",
        "\n",
        "Simple model -> loss: 0.1114 - mean_absolute_error: 0.2542\n",
        "\n",
        "I tried multiple vairants, but the results were simple to my simple model, there wan't any change.\n",
        "\n",
        "*   **LSTM(48, return_sequence, stateful=True, bias_reg=L2(l2=0.1)), LSTM(24), Dense(1)** -> loss: 0.0978 - mean_absolute_error: 0.2235 - epoch: 18\n",
        "*   **LSTM(48, return_sequence), LSTM(24), Dense(1)** -> loss: 0.1114 - mean_absolute_error: 0.2545 - epoch: 15\n",
        "*   **LSTM(48, return_sequence), Bidirectional.LSTM(24), Dense(1)** -> loss: 0.1113 - mean_absolute_error: 0.2542 - epoch: 12\n",
        "*   **LSTM(48, return_sequence, kernel_reg=L1L2(0.0,0.1)), Bidirectional.LSTM(24), Dense(1)** -> loss: 0.1263 - mean_absolute_error: 0.2748 - epoch: 13\n",
        "\n",
        "\n",
        "The result were ever so slightly worse than the simple model. The result doesn't seem to improve. However the trainig is very stagnant: it reaches the optimal result for the training and stays at the level. I will try to adjust the nodes\n",
        "\n",
        "**increasing the nodes**\n",
        "\n",
        "* **LSTM(128, return_sequence), Bidirectional.LSTM(24), Dense(1)-> loss: 0.1114 - mean_absolute_error: 0.2543**\n",
        "\n",
        "As results began to dip, i think i was adjusted in the wrong direction.\n",
        "\n",
        "\n",
        "**Decreasing the nodes**\n",
        "\n",
        "*    **LSTM(8, return_sequence), Dense(1)-> loss: 0.0057 - mean_absolute_error: 0.0519**\n",
        "\n",
        "Decreasing the nodes immensly improved my training. I consequently need to retest manipulating the layers combined with the newfound result\n",
        "\n",
        "* **LSTM(8, return_sequence), SimpleRNN(1)-> loss: 0.1525 - mean_absolute_error: 0.2862**\n",
        "* **LSTM(8, return_sequence), SimpleRNN(4), Dense(1)-> loss: 0.1123 - mean_absolute_error: 0.2558**\n",
        "* **LSTM(8, return_sequence), Bidirectional.LSTM(1), Dense(1)-> loss: 0.1114 - mean_absolute_error: 0.2545**\n",
        "\n",
        "I tried using simpleRNN and Bidirectional, l made this model preform poorly.\n",
        "\n",
        "\n",
        "**GRU**\n",
        "\n",
        "* **GRU(8, return_sequence), SimpleRNN(1)-> loss: 0.0057 - mean_absolute_error: 0.0517**\n",
        "\n",
        "The result is the same with a negligable error margin of 0.0002. The graph seems to also be similar, both failing in the sharp changes in tempurature.\n",
        "\n",
        "\n",
        "**Test Summary**\n",
        "\n",
        "Manipulating layers, nodes, regulization and changing to GRU haven't achieved any improvement. The simple model is the improved model.\n",
        "\n"
      ],
      "metadata": {
        "id": "3WrVSxHmlD5X"
      }
    },
    {
      "cell_type": "markdown",
      "source": [
        "##Visualize the training"
      ],
      "metadata": {
        "id": "CfIXoHM53NHf"
      }
    },
    {
      "cell_type": "code",
      "source": [
        "x = np.arange(len(performance))\n",
        "width = 0.3\n",
        "\n",
        "metric_name = 'mean_absolute_error'\n",
        "metric_index = improved_model.metrics_names.index('mean_absolute_error')\n",
        "val_mae = [v[metric_index] for v in val_performance.values()]\n",
        "test_mae = [v[metric_index] for v in performance.values()]\n",
        "\n",
        "plt.bar(x - 0.17, val_mae, width, label='Validation')\n",
        "plt.bar(x + 0.17, test_mae, width, label='Test')\n",
        "plt.xticks(ticks=x, labels=performance.keys(),\n",
        "           rotation=45)\n",
        "plt.ylabel('MAE (average over all outputs)')\n",
        "_ = plt.legend()\n",
        "\n"
      ],
      "metadata": {
        "colab": {
          "base_uri": "https://localhost:8080/",
          "height": 417
        },
        "id": "4KwiAMCY3QVf",
        "outputId": "f3e8ce03-9865-4287-fa6b-802eb05d04dd"
      },
      "execution_count": null,
      "outputs": [
        {
          "output_type": "display_data",
          "data": {
            "text/plain": [
              "<Figure size 576x432 with 1 Axes>"
            ],
            "image/png": "[encoded data removed]"
          },
          "metadata": {
            "needs_background": "light"
          }
        }
      ]
    },
    {
      "cell_type": "code",
      "source": [
        "#Tensorflow's code\n",
        "for name, value in performance.items():\n",
        "  print(f'{name:15s}: {value[1]:0.4f}')"
      ],
      "metadata": {
        "colab": {
          "base_uri": "https://localhost:8080/"
        },
        "id": "JKna2K-e9ak_",
        "outputId": "c62172b9-d8cc-440e-eb95-e3d2e4458d6a"
      },
      "execution_count": null,
      "outputs": [
        {
          "output_type": "stream",
          "name": "stdout",
          "text": [
            "Baseline       : 0.4787\n",
            "Improved       : 0.4787\n"
          ]
        }
      ]
    },
    {
      "cell_type": "markdown",
      "source": [
        "#Part II\n",
        "\n",
        "This part will contain the following:\n",
        "\n",
        "\n",
        "* Predict a single value of a single feature, 24 hours in advance.\n",
        "* Predict all values of a single feature, 24 hours in advance\n",
        "* Analysis\n",
        "\n"
      ],
      "metadata": {
        "id": "xDEE14snSHgs"
      }
    },
    {
      "cell_type": "markdown",
      "source": [
        "##Single-step predicition"
      ],
      "metadata": {
        "id": "z8y-AKQ4ZkrY"
      }
    },
    {
      "cell_type": "markdown",
      "source": [
        "### Define window and model, fit and evalutate"
      ],
      "metadata": {
        "id": "37x9pdtqdEzU"
      }
    },
    {
      "cell_type": "code",
      "source": [
        "w2 = WindowGenerator(input_width=24, label_width=1, shift=24,\n",
        "                     label_columns=['T (degC)'])\n",
        "\n",
        "w2"
      ],
      "metadata": {
        "colab": {
          "base_uri": "https://localhost:8080/"
        },
        "id": "uMNK2-eBSHUy",
        "outputId": "0c5323d3-9e2a-424d-be36-bad44a9b1eea"
      },
      "execution_count": null,
      "outputs": [
        {
          "output_type": "execute_result",
          "data": {
            "text/plain": [
              "Total window size: 48\n",
              "Input indices: [ 0  1  2  3  4  5  6  7  8  9 10 11 12 13 14 15 16 17 18 19 20 21 22 23]\n",
              "Label indices: [47]\n",
              "Label column name(s): ['T (degC)']"
            ]
          },
          "metadata": {},
          "execution_count": 16
        }
      ]
    },
    {
      "cell_type": "code",
      "source": [
        "w2_model = keras.models.Sequential([\n",
        "    keras.layers.LSTM(32, kernel_regularizer= keras.regularizers.L1L2(l1=0.0, l2=0.1), input_shape=(24, 18)),\n",
        "    keras.layers.Dense(1)\n",
        "])\n",
        "\n",
        "w2_history = compile_and_fit(w2_model, w2, 4)\n",
        "\n",
        "print(\"\\n\\nTraining Ended\\n\\nEvaluation\")\n",
        "w2_model.evaluate(w2.val)\n",
        "print(\"\\n\\nEvaluation, Verbose = 0\")\n",
        "w2_model.evaluate(w2.test, verbose=0)"
      ],
      "metadata": {
        "colab": {
          "base_uri": "https://localhost:8080/"
        },
        "id": "pSVXcMl5a7jp",
        "outputId": "3ddc8dc9-4482-4452-c887-2fd8153bb8f3"
      },
      "execution_count": null,
      "outputs": [
        {
          "output_type": "stream",
          "name": "stdout",
          "text": [
            "Epoch 1/20\n",
            "1532/1532 [==============================] - 13s 8ms/step - loss: 0.3392 - mean_absolute_error: 0.2964 - val_loss: 0.1454 - val_mean_absolute_error: 0.2860\n",
            "Epoch 2/20\n",
            "1532/1532 [==============================] - 12s 8ms/step - loss: 0.1413 - mean_absolute_error: 0.2841 - val_loss: 0.1385 - val_mean_absolute_error: 0.2824\n",
            "Epoch 3/20\n",
            "1532/1532 [==============================] - 13s 8ms/step - loss: 0.1377 - mean_absolute_error: 0.2807 - val_loss: 0.1355 - val_mean_absolute_error: 0.2800\n",
            "Epoch 4/20\n",
            "1532/1532 [==============================] - 12s 8ms/step - loss: 0.1356 - mean_absolute_error: 0.2786 - val_loss: 0.1329 - val_mean_absolute_error: 0.2760\n",
            "Epoch 5/20\n",
            "1532/1532 [==============================] - 11s 7ms/step - loss: 0.1332 - mean_absolute_error: 0.2763 - val_loss: 0.1338 - val_mean_absolute_error: 0.2774\n",
            "Epoch 6/20\n",
            "1532/1532 [==============================] - 12s 8ms/step - loss: 0.1310 - mean_absolute_error: 0.2739 - val_loss: 0.1343 - val_mean_absolute_error: 0.2774\n",
            "Epoch 7/20\n",
            "1532/1532 [==============================] - 12s 8ms/step - loss: 0.1301 - mean_absolute_error: 0.2729 - val_loss: 0.1394 - val_mean_absolute_error: 0.2839\n",
            "Epoch 8/20\n",
            "1532/1532 [==============================] - 11s 7ms/step - loss: 0.1283 - mean_absolute_error: 0.2709 - val_loss: 0.1377 - val_mean_absolute_error: 0.2835\n",
            "\n",
            "\n",
            "Training Ended\n",
            "\n",
            "Evaluation\n",
            "437/437 [==============================] - 2s 4ms/step - loss: 0.1377 - mean_absolute_error: 0.2835\n",
            "\n",
            "\n",
            "Evaluation, Verbose = 0\n"
          ]
        },
        {
          "output_type": "execute_result",
          "data": {
            "text/plain": [
              "[0.11796959489583969, 0.26690447330474854]"
            ]
          },
          "metadata": {},
          "execution_count": 17
        }
      ]
    },
    {
      "cell_type": "code",
      "source": [
        "def plot_learning_curves(loss, val_loss):\n",
        "    plt.plot(np.arange(len(loss)) + 0.5, loss, \"b.-\", label=\"Training loss\")\n",
        "    plt.plot(np.arange(len(val_loss)) + 1, val_loss, \"r.-\", label=\"Validation loss\")\n",
        "    plt.gca().xaxis.set_major_locator(mpl.ticker.MaxNLocator(integer=True))\n",
        "    plt.axis([1, 20, 0, 0.05])\n",
        "    plt.legend(fontsize=14)\n",
        "    plt.xlabel(\"Epochs\")\n",
        "    plt.ylabel(\"Loss\")\n",
        "    plt.grid(True)\n",
        "\n",
        "plot_learning_curves(w2_history.history[\"loss\"], w2_history.history[\"val_loss\"])\n",
        "plt.show()"
      ],
      "metadata": {
        "colab": {
          "base_uri": "https://localhost:8080/",
          "height": 400
        },
        "id": "vtVzwM84vGos",
        "outputId": "940dba29-fabe-4c03-e1d9-4e280460e4d8"
      },
      "execution_count": null,
      "outputs": [
        {
          "output_type": "display_data",
          "data": {
            "text/plain": [
              "<Figure size 576x432 with 1 Axes>"
            ],
            "image/png": "[encoded data removed]"
          },
          "metadata": {
            "needs_background": "light"
          }
        }
      ]
    },
    {
      "cell_type": "markdown",
      "source": [
        "### Baseline our multi-step results"
      ],
      "metadata": {
        "id": "M7vFW3oLc_z8"
      }
    },
    {
      "cell_type": "code",
      "source": [
        "# Even though this is a single step, baselining the result alongside\n",
        "# the coming models can be beneficial in understanding the effect of sling shot and autoregressive predicitions\n",
        "\n",
        "ms_baseline = MultiStepLastBaseline()\n",
        "ms_baseline.compile(loss='mse',\n",
        "                      metrics=[last_time_step_mse])\n",
        "\n",
        "ms_val_performance = {}\n",
        "ms_performance = {}\n",
        "\n",
        "OUT_STEPS = 1\n",
        "\n",
        "ms_val_performance['MS-T'] = w2_model.evaluate(w2.val)\n",
        "ms_performance['MS-T'] = w2_model.evaluate(w2.test, verbose=0)\n",
        "\n",
        "w2.plot(ms_baseline)"
      ],
      "metadata": {
        "colab": {
          "base_uri": "https://localhost:8080/",
          "height": 522
        },
        "id": "_9buuPPycv3y",
        "outputId": "37565c64-626a-4052-9f39-dd16005afa61"
      },
      "execution_count": null,
      "outputs": [
        {
          "output_type": "stream",
          "name": "stdout",
          "text": [
            "437/437 [==============================] - 2s 4ms/step - loss: 0.1377 - mean_absolute_error: 0.2835\n"
          ]
        },
        {
          "output_type": "display_data",
          "data": {
            "text/plain": [
              "<Figure size 864x576 with 3 Axes>"
            ],
            "image/png": "[encoded data removed]"
          },
          "metadata": {
            "needs_background": "light"
          }
        }
      ]
    },
    {
      "cell_type": "markdown",
      "source": [
        "###Test report\n",
        "\n",
        "Compared to direct prediction of the value at t =25, it is much more accuract than predicting the temperature at t = 48.\n",
        "\n",
        "* LSTM(8), Dense(1)-> loss: 0.1307 - mean_absolute_error: 0.2826\n",
        "\n",
        "The prediction graphed showed no pattern in how the machine predicted the temperature. I believe the model doesn't manage to pick up on that temperature is cyclic, increases and decreased thought the day. The model tends to pick up on the development of the graph, whether it is generally decreasing or increasing. Building on that, it continues the trend. Thus, the predicitions are often much lower or higher than the day before.\n",
        "\n",
        "The MSE should in theory be the driving force in mainting the prediciton not too far off from what the temperature was at t=25, but there prediciton are way off then they shoudl be.\n",
        "\n",
        "I tried increasing the kernal size and kernal_intializers\n",
        "\n",
        "* **LSTM(32), Dense(1) -> loss: 0.1262 - mean_absolute_error: 0.2794**\n",
        "* **LSTM(32), Dense(1, kernal_intializer = zero()) -> loss: 0.1288 - mean_absolute_error: 0.2797**\n",
        "\n",
        "I realized that i was only getting roughly 3 to 4 epochs before the earl_stopping is being called. Currently my patience is defaulted at 2, i will increase it to 4 and see the results.\n",
        "\n",
        "* **LSTM(32), Dense(1) -> loss: 0.1620 - mean_absolute_error: 0.3173, epochs: 13**\n",
        "* **LSTM(8), Dense(1)->  loss: 0.1191 - mean_absolute_error: 0.2703, epochs 18**\n",
        "\n",
        "The model was overfitting. Even though the MAE was decreasing still at 8 and 15 epochs, the model began to overfit, which could be send in fluctuation and stagnation of the MAE.\n",
        "\n",
        "On the previous models in part I, regulaization wasn't helping as the model wasn't overfitting. As both the LSTM(32) and  LSTM(8) are overfitting, i will add regulization to attempt to increase the training epochs and avoid overfitting.\n",
        "\n",
        "* **LSTM(32, kernal_reg = L1L2(l1=0.0, l2=0.1)), Dense(1) -> loss: 0.1334 - mean_absolute_error: 0.2761, epochs: 8**\n",
        "\n",
        "* **LSTM(32, kernal_reg = L1L2(l1=0.0, l2=0.1)), RNN(LSTM,bias_reg = L1(l1=1e-4)), Dense(1) -> loss: 0.2132 - mean_absolute_error: 0.3123, epochs: 11**"
      ],
      "metadata": {
        "id": "IhIfb1RLbcg9"
      }
    },
    {
      "cell_type": "markdown",
      "source": [
        "##Multi-step prediction w/o feedback (single shot predictions)"
      ],
      "metadata": {
        "id": "_QzYznTSbP1b"
      }
    },
    {
      "cell_type": "markdown",
      "source": [
        "### Define window and model, fit and evalutate"
      ],
      "metadata": {
        "id": "sqbEN_kp3YoG"
      }
    },
    {
      "cell_type": "code",
      "source": [
        "w3 = WindowGenerator(input_width=24, label_width=24, shift=24,\n",
        "                     label_columns=['T (degC)'])\n",
        "\n",
        "w3"
      ],
      "metadata": {
        "colab": {
          "base_uri": "https://localhost:8080/"
        },
        "id": "WN0ZffyVbTgY",
        "outputId": "c2c0c24b-8055-4db0-e391-6129a8d8467e"
      },
      "execution_count": null,
      "outputs": [
        {
          "output_type": "execute_result",
          "data": {
            "text/plain": [
              "Total window size: 48\n",
              "Input indices: [ 0  1  2  3  4  5  6  7  8  9 10 11 12 13 14 15 16 17 18 19 20 21 22 23]\n",
              "Label indices: [24 25 26 27 28 29 30 31 32 33 34 35 36 37 38 39 40 41 42 43 44 45 46 47]\n",
              "Label column name(s): ['T (degC)']"
            ]
          },
          "metadata": {},
          "execution_count": 20
        }
      ]
    },
    {
      "cell_type": "code",
      "source": [
        "OUT_STEPS = 24\n",
        "num_features = 18\n",
        "\n",
        "w3_model = tf.keras.Sequential([\n",
        "    tf.keras.layers.LSTM(32, return_sequences=False),\n",
        "    tf.keras.layers.Dense(OUT_STEPS*num_features,\n",
        "                          kernel_initializer=tf.initializers.zeros()),\n",
        "    tf.keras.layers.Reshape([OUT_STEPS, num_features])\n",
        "])\n",
        "\n",
        "early_stopping = tf.keras.callbacks.EarlyStopping(monitor='val_loss',\n",
        "                                                    patience=2,\n",
        "                                                    mode='min')\n",
        "\n",
        "w3_model.compile(loss=\"mse\", optimizer=\"adam\", metrics=[last_time_step_mse])\n",
        "\n",
        "w3_history = w3_model.fit(w3.train, epochs=20,\n",
        "                    validation_data=w3.val,\n",
        "                    callbacks=[early_stopping])\n",
        "\n",
        "print(\"\\n\\nTraining Ended\\n\\nEvaluation\")\n",
        "w3_model.evaluate(w3.val)\n",
        "print(\"\\n\\nEvaluation, Verbose = 0\")\n",
        "w3_model.evaluate(w3.test, verbose=0)"
      ],
      "metadata": {
        "colab": {
          "base_uri": "https://localhost:8080/"
        },
        "id": "zwn9f9rpcN8h",
        "outputId": "2fc1bd51-0601-4745-d419-f11d2e48d012"
      },
      "execution_count": null,
      "outputs": [
        {
          "output_type": "stream",
          "name": "stdout",
          "text": [
            "Epoch 1/20\n",
            "1532/1532 [==============================] - 14s 8ms/step - loss: 0.1193 - last_time_step_mse: 0.0678 - val_loss: 0.0835 - val_last_time_step_mse: 0.0254\n",
            "Epoch 2/20\n",
            "1532/1532 [==============================] - 12s 8ms/step - loss: 0.0727 - last_time_step_mse: 0.0235 - val_loss: 0.0780 - val_last_time_step_mse: 0.0190\n",
            "Epoch 3/20\n",
            "1532/1532 [==============================] - 11s 7ms/step - loss: 0.0680 - last_time_step_mse: 0.0195 - val_loss: 0.0772 - val_last_time_step_mse: 0.0155\n",
            "Epoch 4/20\n",
            "1532/1532 [==============================] - 12s 8ms/step - loss: 0.0653 - last_time_step_mse: 0.0166 - val_loss: 0.0784 - val_last_time_step_mse: 0.0149\n",
            "Epoch 5/20\n",
            "1532/1532 [==============================] - 11s 7ms/step - loss: 0.0632 - last_time_step_mse: 0.0156 - val_loss: 0.0768 - val_last_time_step_mse: 0.0132\n",
            "Epoch 6/20\n",
            "1532/1532 [==============================] - 12s 8ms/step - loss: 0.0614 - last_time_step_mse: 0.0160 - val_loss: 0.0791 - val_last_time_step_mse: 0.0156\n",
            "Epoch 7/20\n",
            "1532/1532 [==============================] - 12s 8ms/step - loss: 0.0597 - last_time_step_mse: 0.0141 - val_loss: 0.0799 - val_last_time_step_mse: 0.0140\n",
            "\n",
            "\n",
            "Training Ended\n",
            "\n",
            "Evaluation\n",
            "437/437 [==============================] - 2s 4ms/step - loss: 0.0799 - last_time_step_mse: 0.0158\n",
            "\n",
            "\n",
            "Evaluation, Verbose = 0\n"
          ]
        },
        {
          "output_type": "execute_result",
          "data": {
            "text/plain": [
              "[0.06809986382722855, 0.016359172761440277]"
            ]
          },
          "metadata": {},
          "execution_count": 21
        }
      ]
    },
    {
      "cell_type": "markdown",
      "source": [
        "### Add to multi-step baseline"
      ],
      "metadata": {
        "id": "-IgbBB00dyz0"
      }
    },
    {
      "cell_type": "code",
      "source": [
        "#Definition is found in Part II > Multi-step prediciton > Basline our multistep results\n",
        "\n",
        "OUT_STEPS = 24\n",
        "\n",
        "ms_val_performance['No feedback'] = w3_model.evaluate(w3.val)\n",
        "ms_performance['No feedback'] = w3_model.evaluate(w3.test, verbose=0)\n",
        "\n",
        "w3.plot(ms_baseline)"
      ],
      "metadata": {
        "colab": {
          "base_uri": "https://localhost:8080/",
          "height": 522
        },
        "id": "KwKsCuspd1L-",
        "outputId": "efe16018-388d-493f-be76-72b666583b9b"
      },
      "execution_count": null,
      "outputs": [
        {
          "output_type": "stream",
          "name": "stdout",
          "text": [
            "437/437 [==============================] - 2s 4ms/step - loss: 0.0799 - last_time_step_mse: 0.0167\n"
          ]
        },
        {
          "output_type": "display_data",
          "data": {
            "text/plain": [
              "<Figure size 864x576 with 3 Axes>"
            ],
            "image/png": "[encoded data removed]"
          },
          "metadata": {
            "needs_background": "light"
          }
        }
      ]
    },
    {
      "cell_type": "markdown",
      "source": [
        "###Test report\n",
        "\n",
        "Sling shot prediction has achieved a much lower MSE than a direct prediction.\n",
        "\n",
        "* **LSTM(32), Dense(18, kernal_intializer = 0)-> loss: 0.0767 - last_time_step_mse: 0.0156**\n",
        "\n",
        "\n",
        "* **LSTM(32), Dense(18) -> loss: 0.0862 - mean_absolute_error: 0.0214**\n",
        "\n",
        "I tried to add regulization even though there was no sign of overfitting. I was hoping i could increase the size fo the LSTM\n",
        "\n",
        "* **LSTM(48, kernal_reg = L1L2(l1=0.0, l2=0.1)), Dense(1) -> loss: 0.0534 - mean_absolute_error: 0.0361, epochs: 8**\n",
        "\n",
        "* **LSTM(48, kernal_reg = L1L2(l1=0.0, l2=0.1)), RNN(LSTM,bias_reg = L1(l1=1e-4)), Dense(1) -> loss: 0.3132 - mean_absolute_error: 0.2123, epochs: 11**\n",
        "\n",
        "\n",
        "**LSTM(32) or smaller(16,8)** fit much better. It doesn't seem that any of the models really need regulization. The most beneficial is keeping the LSTM relativelly small.\n"
      ],
      "metadata": {
        "id": "F73qsKHzdWvA"
      }
    },
    {
      "cell_type": "markdown",
      "source": [
        "#Part III\n",
        "\n",
        "* Predict multiple values using feedback"
      ],
      "metadata": {
        "id": "dxC3bflTWRcq"
      }
    },
    {
      "cell_type": "markdown",
      "source": [
        "##Multi-step prediction with feedback (autoregressive predictions)\n",
        "\n"
      ],
      "metadata": {
        "id": "M-9VnffHuxCv"
      }
    },
    {
      "cell_type": "code",
      "source": [
        "#Tensorflow's code\n",
        "class FeedBack(tf.keras.Model):\n",
        "  def __init__(self, units, out_steps):\n",
        "    super().__init__()\n",
        "    self.out_steps = out_steps\n",
        "    self.units = units\n",
        "    self.lstm_cell = tf.keras.layers.LSTMCell(units)\n",
        "    # Also wrap the LSTMCell in an RNN to simplify the `warmup` method.\n",
        "    self.lstm_rnn = tf.keras.layers.RNN(self.lstm_cell, return_state=True)\n",
        "    self.dense = tf.keras.layers.Dense(num_features)\n",
        "\n",
        "  def warmup(self, inputs):\n",
        "    # inputs.shape => (batch, time, features)\n",
        "    # x.shape => (batch, lstm_units)\n",
        "    x, *state = self.lstm_rnn(inputs)\n",
        "\n",
        "    # predictions.shape => (batch, features)\n",
        "    prediction = self.dense(x)\n",
        "    return prediction, state\n",
        "\n",
        "  def call(self, inputs, training=None):\n",
        "    # Use a TensorArray to capture dynamically unrolled outputs.\n",
        "    predictions = []\n",
        "    # Initialize the LSTM state.\n",
        "    prediction, state = self.warmup(inputs)\n",
        "\n",
        "    # Insert the first prediction.\n",
        "    predictions.append(prediction)\n",
        "\n",
        "    # Run the rest of the prediction steps.\n",
        "    for n in range(1, self.out_steps):\n",
        "      # Use the last prediction as input.\n",
        "      x = prediction\n",
        "      # Execute one lstm step.\n",
        "      x, state = self.lstm_cell(x, states=state,\n",
        "                                training=training)\n",
        "      # Convert the lstm output to a prediction.\n",
        "      prediction = self.dense(x)\n",
        "      # Add the prediction to the output.\n",
        "      predictions.append(prediction)\n",
        "\n",
        "    # predictions.shape => (time, batch, features)\n",
        "    predictions = tf.stack(predictions)\n",
        "    # predictions.shape => (batch, time, features)\n",
        "    predictions = tf.transpose(predictions, [1, 0, 2])\n",
        "    return predictions\n"
      ],
      "metadata": {
        "id": "xmZcTp27OqXu"
      },
      "execution_count": null,
      "outputs": []
    },
    {
      "cell_type": "code",
      "source": [
        "feedback_window = WindowGenerator(input_width=24, label_width=24, shift=24)\n",
        "\n",
        "feedback_window"
      ],
      "metadata": {
        "colab": {
          "base_uri": "https://localhost:8080/"
        },
        "id": "PNYtzAQGu0hl",
        "outputId": "c64e5b7a-7b0c-4be9-8891-b739af5412e3"
      },
      "execution_count": null,
      "outputs": [
        {
          "output_type": "execute_result",
          "data": {
            "text/plain": [
              "Total window size: 48\n",
              "Input indices: [ 0  1  2  3  4  5  6  7  8  9 10 11 12 13 14 15 16 17 18 19 20 21 22 23]\n",
              "Label indices: [24 25 26 27 28 29 30 31 32 33 34 35 36 37 38 39 40 41 42 43 44 45 46 47]\n",
              "Label column name(s): None"
            ]
          },
          "metadata": {},
          "execution_count": 24
        }
      ]
    },
    {
      "cell_type": "code",
      "source": [
        "feedback_model = FeedBack(units=32, out_steps=24)\n",
        "\n",
        "prediction, state = feedback_model.warmup(feedback_window.example[0])\n",
        "prediction.shape"
      ],
      "metadata": {
        "colab": {
          "base_uri": "https://localhost:8080/"
        },
        "id": "0TijEmHcu6kH",
        "outputId": "fba497f7-877f-4f4c-c767-a8b5073d2de7"
      },
      "execution_count": null,
      "outputs": [
        {
          "output_type": "execute_result",
          "data": {
            "text/plain": [
              "TensorShape([32, 18])"
            ]
          },
          "metadata": {},
          "execution_count": 34
        }
      ]
    },
    {
      "cell_type": "code",
      "source": [
        "early_stopping = tf.keras.callbacks.EarlyStopping(monitor='val_loss',\n",
        "                                                    patience=2,\n",
        "                                                    mode='min')\n",
        "\n",
        "feedback_model.compile(loss=\"mse\", optimizer=\"adam\", metrics=[last_time_step_mse])\n",
        "\n",
        "feedback_history = feedback_model.fit(feedback_window.train, epochs=20,\n",
        "                    validation_data=feedback_window.val,\n",
        "                    callbacks=[early_stopping])\n",
        "\n",
        "print(\"\\n\\nTraining Ended\\n\\nEvaluation\")\n",
        "feedback_model.evaluate(feedback_window.val)\n",
        "print(\"\\n\\nEvaluation, Verbose = 0\")\n",
        "feedback_model.evaluate(feedback_window.test, verbose=0)"
      ],
      "metadata": {
        "id": "tNZd-ap2P1VZ",
        "colab": {
          "base_uri": "https://localhost:8080/"
        },
        "outputId": "0f7cecc9-dca7-42e5-d66b-5c11cbcaa540"
      },
      "execution_count": null,
      "outputs": [
        {
          "output_type": "stream",
          "name": "stdout",
          "text": [
            "Epoch 1/20\n",
            "1532/1532 [==============================] - 94s 59ms/step - loss: 0.2955 - last_time_step_mse: 0.2373 - val_loss: 0.2448 - val_last_time_step_mse: 0.1480\n",
            "Epoch 2/20\n",
            "1532/1532 [==============================] - 80s 52ms/step - loss: 0.2223 - last_time_step_mse: 0.1316 - val_loss: 0.2395 - val_last_time_step_mse: 0.1332\n",
            "Epoch 3/20\n",
            "1532/1532 [==============================] - 79s 51ms/step - loss: 0.2136 - last_time_step_mse: 0.1202 - val_loss: 0.2288 - val_last_time_step_mse: 0.1232\n",
            "Epoch 4/20\n",
            "1532/1532 [==============================] - 78s 51ms/step - loss: 0.2089 - last_time_step_mse: 0.1168 - val_loss: 0.2256 - val_last_time_step_mse: 0.1116\n",
            "Epoch 5/20\n",
            "1532/1532 [==============================] - 77s 50ms/step - loss: 0.2053 - last_time_step_mse: 0.1137 - val_loss: 0.2226 - val_last_time_step_mse: 0.1214\n",
            "Epoch 6/20\n",
            "1532/1532 [==============================] - 77s 50ms/step - loss: 0.2032 - last_time_step_mse: 0.1191 - val_loss: 0.2208 - val_last_time_step_mse: 0.1180\n",
            "Epoch 7/20\n",
            "1532/1532 [==============================] - 79s 51ms/step - loss: 0.2012 - last_time_step_mse: 0.1133 - val_loss: 0.2222 - val_last_time_step_mse: 0.1101\n",
            "Epoch 8/20\n",
            "1532/1532 [==============================] - 78s 51ms/step - loss: 0.1998 - last_time_step_mse: 0.1088 - val_loss: 0.2219 - val_last_time_step_mse: 0.1052\n",
            "\n",
            "\n",
            "Training Ended\n",
            "\n",
            "Evaluation\n",
            "437/437 [==============================] - 4s 10ms/step - loss: 0.2219 - last_time_step_mse: 0.1023\n",
            "\n",
            "\n",
            "Evaluation, Verbose = 0\n"
          ]
        },
        {
          "output_type": "execute_result",
          "data": {
            "text/plain": [
              "[0.19279398024082184, 0.10131919384002686]"
            ]
          },
          "metadata": {},
          "execution_count": 26
        }
      ]
    },
    {
      "cell_type": "markdown",
      "source": [
        "###Add to multi-step baseline"
      ],
      "metadata": {
        "id": "uw03V4KKvCim"
      }
    },
    {
      "cell_type": "code",
      "source": [
        "ms_val_performance['With feedback'] = feedback_model.evaluate(feedback_window.val)\n",
        "ms_performance['With feedback'] = feedback_model.evaluate(feedback_window.test, verbose = 0)\n",
        "\n",
        "OUT_STEPS = 24\n",
        "\n",
        "feedback_window.plot(ms_baseline)"
      ],
      "metadata": {
        "colab": {
          "base_uri": "https://localhost:8080/",
          "height": 522
        },
        "id": "lCcuxu7YvEe_",
        "outputId": "8d343a1a-c86f-477b-b38b-b94c9e7cd9fb"
      },
      "execution_count": null,
      "outputs": [
        {
          "output_type": "stream",
          "name": "stdout",
          "text": [
            "437/437 [==============================] - 4s 10ms/step - loss: 0.2219 - last_time_step_mse: 0.1253\n"
          ]
        },
        {
          "output_type": "display_data",
          "data": {
            "text/plain": [
              "<Figure size 864x576 with 3 Axes>"
            ],
            "image/png": "[encoded data removed]"
          },
          "metadata": {
            "needs_background": "light"
          }
        }
      ]
    },
    {
      "cell_type": "markdown",
      "source": [
        "###Test report\n",
        "\n",
        "\n",
        "This model has an lstm layer wrapped in RNN, to \"simplify the `warmup` method\". This has proven to be less effective\n",
        "\n",
        "* lSTM(32), RNN(LSTM, return state), Dense (Softmax) -> - loss: 0.2219 - last_time_step_mse: 0.1253\n",
        "\n",
        "This addition of the RNN makes it harder to compare this to the previous model. I tried adding RNN to other models, but the result was a drop in preformance.\n",
        "\n",
        "However, this could be also indicate that the other features have affected negatively the prediction of weather or that weather is harder to predict than the other 17 features\n",
        "\n",
        "Looking at the prediction parallel to the original values, it seem that the machine is just replicating the trend, this is as aforementioned because of only 24 hours to learn from. (I removed the graph)\n",
        "\n",
        "The prediction graphed showed the model understood that the temperature is cyclic, increases and decreased thought the day. This could be because it learns from multiple features (18 features compared to 1), that there is some sort of cycle.\n",
        "\n",
        "The MSE could more easily help in mainting the prediciton not too far off from what the temperature was at t=25 and thats mostly thanks to additional features to also add to the penalization of wrong answers.\n",
        "\n",
        "\n",
        "\n"
      ],
      "metadata": {
        "id": "22gt_qHAvPx2"
      }
    },
    {
      "cell_type": "markdown",
      "source": [
        "##Comparing Part II and Part II results"
      ],
      "metadata": {
        "id": "l5OVEmSHixi-"
      }
    },
    {
      "cell_type": "code",
      "source": [
        "#Tensorflow's code\n",
        "x = np.arange(len(ms_performance))\n",
        "width = 0.3\n",
        "\n",
        "metric_name = 'last_time_step_mse'\n",
        "metric_index = feedback_model.metrics_names.index('last_time_step_mse')\n",
        "val_mae = [v[metric_index] for v in ms_val_performance.values()]\n",
        "test_mae = [v[metric_index] for v in ms_performance.values()]\n",
        "\n",
        "plt.bar(x - 0.17, val_mae, width, label='Validation')\n",
        "plt.bar(x + 0.17, test_mae, width, label='Test')\n",
        "plt.xticks(ticks=x, labels=ms_performance.keys(),\n",
        "           rotation=45)\n",
        "plt.ylabel('last_time_step_mse')\n",
        "_ = plt.legend()"
      ],
      "metadata": {
        "colab": {
          "base_uri": "https://localhost:8080/",
          "height": 434
        },
        "id": "kAk6kI46Ejc_",
        "outputId": "6ab05016-76ce-4d17-bff4-1a258b7446e6"
      },
      "execution_count": null,
      "outputs": [
        {
          "output_type": "display_data",
          "data": {
            "text/plain": [
              "<Figure size 576x432 with 1 Axes>"
            ],
            "image/png": "[encoded data removed]"
          },
          "metadata": {
            "needs_background": "light"
          }
        }
      ]
    },
    {
      "cell_type": "code",
      "source": [
        "#Tensorflow's code\n",
        "for name, value in ms_performance.items():\n",
        "  print(f'{name:15s}: {value[1]:0.4f}')"
      ],
      "metadata": {
        "colab": {
          "base_uri": "https://localhost:8080/"
        },
        "id": "fhG9IPO4E7_X",
        "outputId": "387ba97d-22f9-4202-e195-2fda496f0dc5"
      },
      "execution_count": null,
      "outputs": [
        {
          "output_type": "stream",
          "name": "stdout",
          "text": [
            "MS-T           : 0.2669\n",
            "No feedback    : 0.0128\n",
            "With feedback  : 0.1027\n"
          ]
        }
      ]
    }
  ]
}