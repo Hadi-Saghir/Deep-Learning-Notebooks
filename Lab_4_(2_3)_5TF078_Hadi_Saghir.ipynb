{
  "cells": [
    {
      "cell_type": "markdown",
      "metadata": {
        "id": "view-in-github",
        "colab_type": "text"
      },
      "source": [
        "<a href=\"https://colab.research.google.com/github/Hadi-Saghir/Deep-Learning-Notebooks/blob/main/Lab_4_(2_3)_5TF078_Hadi_Saghir.ipynb\" target=\"_parent\"><img src=\"https://colab.research.google.com/assets/colab-badge.svg\" alt=\"Open In Colab\"/></a>"
      ]
    },
    {
      "cell_type": "markdown",
      "metadata": {
        "id": "T3K30FLPf78B"
      },
      "source": [
        "#**Lab 4: Laboration tal- och textigenkänning**\n",
        "## Author: Hadi Saghir (hasa0182)\n",
        "\n",
        "This lab will demonstrate knowledge and ability to apply a recurrent neural network (RNN) model to make prediction on time series.\n",
        "\n",
        "This document will contain following parts:\n",
        "- Embedding (1/3)\n",
        "- IMDB reviews (2/3)\n",
        "- BERT (3/3)"
      ]
    },
    {
      "cell_type": "markdown",
      "source": [
        "#IMDB Reviews\n",
        "\n",
        "This section will be applying ML processes to develop a sentiment detection for movie reviews. The processes being utilizied are the following:\n",
        "\n",
        "- Importing the IMDB Dataset (preprocessed and embedded)\n",
        "\n",
        "- Split the dataset into training, validation, and test sets.\n",
        "\n",
        "- Train a machine learning model on the following models, SimpleRNN(32), LSTM(32), a larger LSTM tex LSTM(128), and a bidirectional LSTM BiLSTM(32).\n",
        "\n",
        "- Evaluate the model's performance on the validation set and use it to adjust the model's hyperparameters.\n",
        "\n",
        "- Test the model's performance on the test set.\n",
        "\n",
        "- Analyze the result of the different models.\n"
      ],
      "metadata": {
        "id": "GQF-ZDg-G6PM"
      }
    },
    {
      "cell_type": "markdown",
      "source": [
        "##Importing IMDB Dataset"
      ],
      "metadata": {
        "id": "OC3o7KdrH6Q-"
      }
    },
    {
      "cell_type": "code",
      "source": [
        "import keras\n",
        "keras.__version__\n",
        "\n",
        "from keras.models import Sequential\n",
        "from keras.layers import Embedding, SimpleRNN\n",
        "from keras.layers import Dense"
      ],
      "metadata": {
        "id": "BI1DDq0ELUub"
      },
      "execution_count": null,
      "outputs": []
    },
    {
      "cell_type": "code",
      "source": [
        "from keras.datasets import imdb\n",
        "from keras.utils import pad_sequences\n",
        "\n",
        "max_features = 10000  # number of words to consider as features\n",
        "maxlen = 500  # cut texts after this number of words (among top max_features most common words)\n",
        "batch_size = 32\n",
        "\n",
        "print('Loading data...')\n",
        "(input_train, y_train), (input_test, y_test) = imdb.load_data(num_words=max_features)\n",
        "print(len(input_train), 'train sequences')\n",
        "print(len(input_test), 'test sequences')\n",
        "\n",
        "print('Pad sequences (samples x time)')\n",
        "input_train = pad_sequences(input_train, maxlen=maxlen)\n",
        "input_test = pad_sequences(input_test, maxlen=maxlen)\n",
        "print('input_train shape:', input_train.shape)\n",
        "print('input_test shape:', input_test.shape)"
      ],
      "metadata": {
        "colab": {
          "base_uri": "https://localhost:8080/"
        },
        "id": "sDWj37DaXTlU",
        "outputId": "a4600bb2-1f5c-447f-a4a7-248ca5f266c6"
      },
      "execution_count": null,
      "outputs": [
        {
          "output_type": "stream",
          "name": "stdout",
          "text": [
            "Loading data...\n",
            "Downloading data from https://storage.googleapis.com/tensorflow/tf-keras-datasets/imdb.npz\n",
            "17464789/17464789 [==============================] - 2s 0us/step\n",
            "25000 train sequences\n",
            "25000 test sequences\n",
            "Pad sequences (samples x time)\n",
            "input_train shape: (25000, 500)\n",
            "input_test shape: (25000, 500)\n"
          ]
        }
      ]
    },
    {
      "cell_type": "markdown",
      "source": [
        "##Training our models"
      ],
      "metadata": {
        "id": "JC29sVn-INNA"
      }
    },
    {
      "cell_type": "markdown",
      "source": [
        "###SimpleRNN(32)"
      ],
      "metadata": {
        "id": "Diz3SdpPPvlJ"
      }
    },
    {
      "cell_type": "code",
      "source": [
        "model = Sequential()\n",
        "model.add(Embedding(max_features, 32))\n",
        "model.add(SimpleRNN(32))\n",
        "model.add(Dense(1, activation='sigmoid'))\n",
        "\n",
        "model.compile(optimizer='rmsprop', loss='binary_crossentropy', metrics=['acc'])\n",
        "history = model.fit(input_train, y_train,\n",
        "                    epochs=10,\n",
        "                    batch_size=128,\n",
        "                    validation_split=0.2)"
      ],
      "metadata": {
        "colab": {
          "base_uri": "https://localhost:8080/"
        },
        "id": "78aq7TRCMHpe",
        "outputId": "ada7069e-4189-4bc4-a7f1-e59fed8b7313"
      },
      "execution_count": null,
      "outputs": [
        {
          "output_type": "stream",
          "name": "stdout",
          "text": [
            "Epoch 1/10\n",
            "157/157 [==============================] - 22s 129ms/step - loss: 0.6334 - acc: 0.6291 - val_loss: 0.6664 - val_acc: 0.6474\n",
            "Epoch 2/10\n",
            "157/157 [==============================] - 19s 121ms/step - loss: 0.3926 - acc: 0.8295 - val_loss: 0.3609 - val_acc: 0.8526\n",
            "Epoch 3/10\n",
            "157/157 [==============================] - 18s 116ms/step - loss: 0.2929 - acc: 0.8848 - val_loss: 0.3771 - val_acc: 0.8346\n",
            "Epoch 4/10\n",
            "157/157 [==============================] - 18s 116ms/step - loss: 0.2425 - acc: 0.9065 - val_loss: 0.3377 - val_acc: 0.8730\n",
            "Epoch 5/10\n",
            "157/157 [==============================] - 18s 118ms/step - loss: 0.1675 - acc: 0.9390 - val_loss: 0.5301 - val_acc: 0.7622\n",
            "Epoch 6/10\n",
            "157/157 [==============================] - 18s 117ms/step - loss: 0.1304 - acc: 0.9541 - val_loss: 0.4104 - val_acc: 0.8626\n",
            "Epoch 7/10\n",
            "157/157 [==============================] - 18s 117ms/step - loss: 0.0900 - acc: 0.9700 - val_loss: 0.5424 - val_acc: 0.7944\n",
            "Epoch 8/10\n",
            "157/157 [==============================] - 19s 118ms/step - loss: 0.0604 - acc: 0.9804 - val_loss: 0.4787 - val_acc: 0.8420\n",
            "Epoch 9/10\n",
            "157/157 [==============================] - 19s 118ms/step - loss: 0.0379 - acc: 0.9893 - val_loss: 0.5974 - val_acc: 0.8450\n",
            "Epoch 10/10\n",
            "157/157 [==============================] - 18s 117ms/step - loss: 0.0299 - acc: 0.9906 - val_loss: 0.6400 - val_acc: 0.8310\n"
          ]
        }
      ]
    },
    {
      "cell_type": "code",
      "source": [
        "import matplotlib.pyplot as plt\n",
        "\n",
        "acc = history.history['acc']\n",
        "val_acc = history.history['val_acc']\n",
        "loss = history.history['loss']\n",
        "val_loss = history.history['val_loss']\n",
        "\n",
        "epochs = range(len(acc))\n",
        "\n",
        "plt.plot(epochs, acc, 'bo', label='Training acc')\n",
        "plt.plot(epochs, val_acc, 'b', label='Validation acc')\n",
        "plt.title('Training and validation accuracy')\n",
        "plt.legend()\n",
        "\n",
        "plt.figure()\n",
        "\n",
        "plt.plot(epochs, loss, 'bo', label='Training loss')\n",
        "plt.plot(epochs, val_loss, 'b', label='Validation loss')\n",
        "plt.title('Training and validation loss')\n",
        "plt.legend()\n",
        "\n",
        "plt.show()"
      ],
      "metadata": {
        "colab": {
          "base_uri": "https://localhost:8080/"
        },
        "id": "zxWa64fNNVF1",
        "outputId": "3584bf66-0fc5-4832-d08a-375a033f839b"
      },
      "execution_count": null,
      "outputs": [
        {
          "output_type": "display_data",
          "data": {
            "text/plain": [
              "<Figure size 432x288 with 1 Axes>"
            ],
            "image/png": "[encoded data removed]"
          },
          "metadata": {
            "needs_background": "light"
          }
        },
        {
          "output_type": "display_data",
          "data": {
            "text/plain": [
              "<Figure size 432x288 with 1 Axes>"
            ],
            "image/png": "[encoded data removed]"
          },
          "metadata": {
            "needs_background": "light"
          }
        }
      ]
    },
    {
      "cell_type": "markdown",
      "source": [
        "This training session tells us that the model's accuracy improved over the course of the 10 training epochs. The training accuracy (acc) increases from 0.6291 in the first epoch to 0.9906 in the last epoch. The validation accuracy (val_acc) also increases, but not as much as the training accuracy, which indicates that the model is overfitting to the training data. The loss (loss) decreases over the course of training, which indicates that the model is learning. However, the validation loss (val_loss) does not decrease as much as the training loss, which also indicates overfitting. Early stopping could be used to prevent the overfitting seen after epoch 5, but that will be implemented in LSTM(Mine).\n",
        "\n",
        "\n",
        "A SimpleRNN may not be the best choice as it has a tendency to suffer from the vanishing gradient problem, which makes them less effective at handling longer sequences of data such as movie reviews. Other architectures such as LSTM and GRU are better suited for handling longer sequences of data and are often used in sentiment analysis tasks."
      ],
      "metadata": {
        "id": "Zrc2tevXNvAa"
      }
    },
    {
      "cell_type": "markdown",
      "source": [
        "###LSTM(32)"
      ],
      "metadata": {
        "id": "WRp0_D3mPyxS"
      }
    },
    {
      "cell_type": "code",
      "source": [
        "from keras.layers import LSTM\n",
        "\n",
        "model = Sequential()\n",
        "model.add(Embedding(max_features, 32))\n",
        "model.add(LSTM(32))\n",
        "model.add(Dense(1, activation='sigmoid'))\n",
        "\n",
        "model.compile(optimizer='rmsprop',\n",
        "              loss='binary_crossentropy',\n",
        "              metrics=['acc'])\n",
        "history = model.fit(input_train, y_train,\n",
        "                    epochs=10,\n",
        "                    batch_size=128,\n",
        "                    validation_split=0.2)"
      ],
      "metadata": {
        "colab": {
          "base_uri": "https://localhost:8080/"
        },
        "id": "CZhC62doPHrD",
        "outputId": "b2ff630f-4853-4a3d-e706-2288e99331ba"
      },
      "execution_count": null,
      "outputs": [
        {
          "output_type": "stream",
          "name": "stdout",
          "text": [
            "Epoch 1/10\n",
            "157/157 [==============================] - 10s 23ms/step - loss: 0.4862 - acc: 0.7757 - val_loss: 0.3829 - val_acc: 0.8408\n",
            "Epoch 2/10\n",
            "157/157 [==============================] - 3s 22ms/step - loss: 0.2843 - acc: 0.8893 - val_loss: 0.3928 - val_acc: 0.8322\n",
            "Epoch 3/10\n",
            "157/157 [==============================] - 3s 20ms/step - loss: 0.2392 - acc: 0.9122 - val_loss: 0.6438 - val_acc: 0.7860\n",
            "Epoch 4/10\n",
            "157/157 [==============================] - 3s 20ms/step - loss: 0.1983 - acc: 0.9280 - val_loss: 0.2841 - val_acc: 0.8920\n",
            "Epoch 5/10\n",
            "157/157 [==============================] - 3s 20ms/step - loss: 0.1746 - acc: 0.9372 - val_loss: 0.3327 - val_acc: 0.8876\n",
            "Epoch 6/10\n",
            "157/157 [==============================] - 3s 20ms/step - loss: 0.1608 - acc: 0.9419 - val_loss: 0.3156 - val_acc: 0.8884\n",
            "Epoch 7/10\n",
            "157/157 [==============================] - 3s 20ms/step - loss: 0.1429 - acc: 0.9488 - val_loss: 0.3578 - val_acc: 0.8882\n",
            "Epoch 8/10\n",
            "157/157 [==============================] - 5s 35ms/step - loss: 0.1341 - acc: 0.9528 - val_loss: 0.3435 - val_acc: 0.8862\n",
            "Epoch 9/10\n",
            "157/157 [==============================] - 6s 37ms/step - loss: 0.1227 - acc: 0.9566 - val_loss: 0.3470 - val_acc: 0.8698\n",
            "Epoch 10/10\n",
            "157/157 [==============================] - 4s 27ms/step - loss: 0.1150 - acc: 0.9607 - val_loss: 0.5411 - val_acc: 0.8502\n"
          ]
        }
      ]
    },
    {
      "cell_type": "code",
      "source": [
        "import matplotlib.pyplot as plt\n",
        "\n",
        "acc = history.history['acc']\n",
        "val_acc = history.history['val_acc']\n",
        "loss = history.history['loss']\n",
        "val_loss = history.history['val_loss']\n",
        "\n",
        "epochs = range(len(acc))\n",
        "\n",
        "plt.plot(epochs, acc, 'bo', label='Training acc')\n",
        "plt.plot(epochs, val_acc, 'b', label='Validation acc')\n",
        "plt.title('Training and validation accuracy')\n",
        "plt.legend()\n",
        "\n",
        "plt.figure()\n",
        "\n",
        "plt.plot(epochs, loss, 'bo', label='Training loss')\n",
        "plt.plot(epochs, val_loss, 'b', label='Validation loss')\n",
        "plt.title('Training and validation loss')\n",
        "plt.legend()\n",
        "\n",
        "plt.show()"
      ],
      "metadata": {
        "colab": {
          "base_uri": "https://localhost:8080/"
        },
        "id": "It7SsgpHQOPB",
        "outputId": "fa5dc1ee-5fbe-4161-8d1c-7975c4295c1b"
      },
      "execution_count": null,
      "outputs": [
        {
          "output_type": "display_data",
          "data": {
            "text/plain": [
              "<Figure size 432x288 with 1 Axes>"
            ],
            "image/png": "[encoded data removed]"
          },
          "metadata": {
            "needs_background": "light"
          }
        },
        {
          "output_type": "display_data",
          "data": {
            "text/plain": [
              "<Figure size 432x288 with 1 Axes>"
            ],
            "image/png": "[encoded data removed]"
          },
          "metadata": {
            "needs_background": "light"
          }
        }
      ]
    },
    {
      "cell_type": "markdown",
      "source": [
        "The training loss is decreasing, and the training accuracy is increasing, indicating that the model is becoming better at classifying the reviews.  However, it is also apparent that there may be overfitting, as the validation loss and accuracy are not improving as much as the training loss and accuracy. This model is generalizing better to unseen data as suggested by the validation loss and accuracy decreasing and increasing respectively.\n",
        "\n",
        "I will try using a larger network and using techniques like regularization to prevent overfitting (even more than what we are currently exhibiting). Ultimately, it's a trade off between performance and computational resources."
      ],
      "metadata": {
        "id": "_blrgUwmQ_pK"
      }
    },
    {
      "cell_type": "markdown",
      "source": [
        "###LSTM(Mine)"
      ],
      "metadata": {
        "id": "QofCrSugSXaZ"
      }
    },
    {
      "cell_type": "markdown",
      "source": [
        "The regaulization methods i want to test out are the following:\n",
        "\n",
        "- Dropout: This is a form of regularization where a certain percentage of neurons in the LSTM layer are randomly dropped out during training. This helps to prevent overfitting by reducing the complexity of the model.\n",
        "\n",
        "- L1 and L2 Regularization: These are forms of weight regularization, where a penalty term is added to the loss function to discourage the model from assigning too much importance to any one weight.\n",
        "\n",
        "- Early Stopping: This is a form of regularization that stops the training of the model when the performance on the validation set stops improving.\n",
        "\n",
        "However, according to the lab description i should use early stopping."
      ],
      "metadata": {
        "id": "ihBdwno6Y2lc"
      }
    },
    {
      "cell_type": "code",
      "source": [
        "from keras.layers import LSTM\n",
        "from keras.callbacks import EarlyStopping\n",
        "\n",
        "\n",
        "model = Sequential()\n",
        "model.add(Embedding(max_features, 32))\n",
        "model.add(LSTM(64))\n",
        "model.add(Dense(1, activation='sigmoid'))\n",
        "\n",
        "es=EarlyStopping(monitor='val_loss', verbose=1, patience=3, mode='auto', min_delta=0, restore_best_weights = True)\n",
        "callbacks =[es]\n",
        "\n",
        "\n",
        "model.compile(optimizer='rmsprop',\n",
        "              loss='binary_crossentropy',\n",
        "              metrics=['acc'])\n",
        "history = model.fit(input_train, y_train,\n",
        "                    epochs=10,\n",
        "                    batch_size=128,\n",
        "                    validation_split=0.2,\n",
        "                    callbacks=callbacks\n",
        "                    )"
      ],
      "metadata": {
        "colab": {
          "base_uri": "https://localhost:8080/"
        },
        "id": "j5O2K4UOSbo6",
        "outputId": "e0a6af1c-464a-4662-d115-ded3160bcf10"
      },
      "execution_count": null,
      "outputs": [
        {
          "output_type": "stream",
          "name": "stdout",
          "text": [
            "Epoch 1/10\n",
            "157/157 [==============================] - 7s 31ms/step - loss: 0.5298 - acc: 0.7517 - val_loss: 0.4245 - val_acc: 0.8136\n",
            "Epoch 2/10\n",
            "157/157 [==============================] - 4s 28ms/step - loss: 0.3063 - acc: 0.8773 - val_loss: 0.3273 - val_acc: 0.8626\n",
            "Epoch 3/10\n",
            "157/157 [==============================] - 5s 34ms/step - loss: 0.2495 - acc: 0.9055 - val_loss: 0.3678 - val_acc: 0.8346\n",
            "Epoch 4/10\n",
            "157/157 [==============================] - 5s 33ms/step - loss: 0.2164 - acc: 0.9201 - val_loss: 0.3109 - val_acc: 0.8806\n",
            "Epoch 5/10\n",
            "157/157 [==============================] - 6s 36ms/step - loss: 0.1886 - acc: 0.9330 - val_loss: 0.5272 - val_acc: 0.8246\n",
            "Epoch 6/10\n",
            "157/157 [==============================] - 4s 28ms/step - loss: 0.1683 - acc: 0.9393 - val_loss: 0.5992 - val_acc: 0.7666\n",
            "Epoch 7/10\n",
            "156/157 [============================>.] - ETA: 0s - loss: 0.1604 - acc: 0.9425Restoring model weights from the end of the best epoch: 4.\n",
            "157/157 [==============================] - 4s 28ms/step - loss: 0.1609 - acc: 0.9423 - val_loss: 0.3281 - val_acc: 0.8588\n",
            "Epoch 7: early stopping\n"
          ]
        }
      ]
    },
    {
      "cell_type": "markdown",
      "source": [
        "\n",
        "LSTM(128)\n",
        "\n",
        "The models early stops at epoch 10, resorting best weight at epoch 7. The training loss decreased from 0.5474 in the first epoch to 0.1260 in the 7th epoch, and the training accuracy increased from 0.7370 in the first epoch to 0.9563 in the 7th epoch. The validation loss decreased from 0.4066 in the first epoch to 0.3115 in the 7th epoch, and the validation accuracy increased from 0.8190 in the first epoch to 0.8704 in the 7th epoch.After epoch 7, the model starts to overfit to a greater extent at a higher rate.  \n",
        "\n",
        "LSTM(64)\n",
        "\n",
        "The models early stops at epoch 6,  resorting best weight at epoch 7. The training loss decreased from 0.5496 in the first epoch to 0.2559 in the 3rd epoch, and the training accuracy increased from 0.7348 in the first epoch to 0.9006 in the 3rd epoch. The validation loss decreased from 0.4074 in the first epoch to 0.2810 in the 3rd epoch, and the validation accuracy increased from 0.8294 in the first epoch to 0.882 in the 3rd epoch. The resuylt of the performance of LSTM(128) was higher in training loss, training accuracy and val_loss but not val_acc. This may suggest LSTM is better at learning new, but higher cross-validation suggests may be exhibiting more overfitting. This causes the model read better new data.\n",
        "\n",
        "\n",
        "LSTM(64) performed better, seeing that overfitting is already a problem, increasing the size doesn't help. However, the results aren't very consistent, so different run may experience varying results.\n",
        "\n",
        "\n",
        "#### **Own Testing**\n",
        "* LSTM(64)/LSTM(128)\n",
        "* Dropout(0.5)\n",
        "\n",
        "Overfitting still apparent training results improved while the validation results are rather stagnant.The model achieved an accuracy of 96.13% on the training set and 86.98% on the validation set after 10 epochs. The loss on the training set decreased while the loss on the validation set increased over the 10 epochs, indicating that the model may be overfitting.\n",
        "\n",
        "* LSTM(16)\n",
        "\n",
        "meh. nothing interesting"
      ],
      "metadata": {
        "id": "tq4gW85uVrut"
      }
    },
    {
      "cell_type": "markdown",
      "source": [
        "###LSTM BiLSTM(32)"
      ],
      "metadata": {
        "id": "h6gLQ2zqhhOW"
      }
    },
    {
      "cell_type": "markdown",
      "source": [
        "A bidirectional LSTM (BLSTM) is a type of LSTM that processes the input sequence in two directions, one direction from past to future and the other direction from future to past. This allows the network to capture both past and future context, which can be useful for tasks such as language modeling or sentiment detection. A normal LSTM, on the other hand, only processes the input sequence in one direction, from past to future, which limits its ability to capture context from the future. BLSTM can provide better performance in certain tasks because it can capture more context from the input sequence."
      ],
      "metadata": {
        "id": "cMenNMFGi9rG"
      }
    },
    {
      "cell_type": "code",
      "source": [
        "from keras.layers import Bidirectional\n",
        "from keras.layers import LSTM\n",
        "from keras.callbacks import EarlyStopping\n",
        "\n",
        "\n",
        "model = Sequential()\n",
        "model.add(Embedding(max_features, 32))\n",
        "model.add(Bidirectional(LSTM(32)))\n",
        "model.add(Dense(1, activation='sigmoid'))\n",
        "\n",
        "es=EarlyStopping(monitor='val_loss', verbose=1, patience=3, mode='auto', min_delta=0, restore_best_weights = True)\n",
        "callbacks =[es]\n",
        "\n",
        "\n",
        "model.compile(optimizer='rmsprop',\n",
        "              loss='binary_crossentropy',\n",
        "              metrics=['acc'])\n",
        "history = model.fit(input_train, y_train,\n",
        "                    epochs=10,\n",
        "                    batch_size=128,\n",
        "                    validation_split=0.2,\n",
        "                    callbacks=callbacks\n",
        "                    )"
      ],
      "metadata": {
        "colab": {
          "base_uri": "https://localhost:8080/"
        },
        "id": "Yh97MNFkiR6u",
        "outputId": "73711840-0055-4dc2-fd0c-f2eb35f584ee"
      },
      "execution_count": null,
      "outputs": [
        {
          "output_type": "stream",
          "name": "stdout",
          "text": [
            "Epoch 1/10\n",
            "157/157 [==============================] - 19s 50ms/step - loss: 0.5196 - acc: 0.7454 - val_loss: 0.4116 - val_acc: 0.8196\n",
            "Epoch 2/10\n",
            "157/157 [==============================] - 6s 38ms/step - loss: 0.3050 - acc: 0.8806 - val_loss: 0.3088 - val_acc: 0.8816\n",
            "Epoch 3/10\n",
            "157/157 [==============================] - 7s 47ms/step - loss: 0.2436 - acc: 0.9062 - val_loss: 0.4067 - val_acc: 0.8446\n",
            "Epoch 4/10\n",
            "157/157 [==============================] - 6s 40ms/step - loss: 0.2062 - acc: 0.9244 - val_loss: 0.3661 - val_acc: 0.8428\n",
            "Epoch 5/10\n",
            "157/157 [==============================] - 6s 39ms/step - loss: 0.1839 - acc: 0.9327 - val_loss: 0.2976 - val_acc: 0.8888\n",
            "Epoch 6/10\n",
            "157/157 [==============================] - 6s 38ms/step - loss: 0.1640 - acc: 0.9427 - val_loss: 0.3644 - val_acc: 0.8806\n",
            "Epoch 7/10\n",
            "157/157 [==============================] - 6s 38ms/step - loss: 0.1449 - acc: 0.9484 - val_loss: 0.3332 - val_acc: 0.8688\n",
            "Epoch 8/10\n",
            "157/157 [==============================] - ETA: 0s - loss: 0.1320 - acc: 0.9531Restoring model weights from the end of the best epoch: 5.\n",
            "157/157 [==============================] - 6s 38ms/step - loss: 0.1320 - acc: 0.9531 - val_loss: 0.3181 - val_acc: 0.8854\n",
            "Epoch 8: early stopping\n"
          ]
        }
      ]
    },
    {
      "cell_type": "code",
      "source": [
        "import matplotlib.pyplot as plt\n",
        "\n",
        "acc = history.history['acc']\n",
        "val_acc = history.history['val_acc']\n",
        "loss = history.history['loss']\n",
        "val_loss = history.history['val_loss']\n",
        "\n",
        "epochs = range(len(acc))\n",
        "\n",
        "plt.plot(epochs, acc, 'bo', label='Training acc')\n",
        "plt.plot(epochs, val_acc, 'b', label='Validation acc')\n",
        "plt.title('Training and validation accuracy')\n",
        "plt.legend()\n",
        "\n",
        "plt.figure()\n",
        "\n",
        "plt.plot(epochs, loss, 'bo', label='Training loss')\n",
        "plt.plot(epochs, val_loss, 'b', label='Validation loss')\n",
        "plt.title('Training and validation loss')\n",
        "plt.legend()\n",
        "\n",
        "plt.show()"
      ],
      "metadata": {
        "colab": {
          "base_uri": "https://localhost:8080/",
          "height": 545
        },
        "id": "l6AtmLdFj-WY",
        "outputId": "e6edc3ca-ccb8-4240-f81e-9b1ebba0b276"
      },
      "execution_count": null,
      "outputs": [
        {
          "output_type": "display_data",
          "data": {
            "text/plain": [
              "<Figure size 432x288 with 1 Axes>"
            ],
            "image/png": "[encoded data removed]"
          },
          "metadata": {
            "needs_background": "light"
          }
        },
        {
          "output_type": "display_data",
          "data": {
            "text/plain": [
              "<Figure size 432x288 with 1 Axes>"
            ],
            "image/png": "[encoded data removed]"
          },
          "metadata": {
            "needs_background": "light"
          }
        }
      ]
    },
    {
      "cell_type": "markdown",
      "source": [
        "The training and validation accuracy start off at 72.21% and 78.72% respectively, and improve over the course of the training, reaching 0.94 and 0.89 respectively at the end of the 7th epoch. The training loss starts off at 0.5663 and decreases over the course of the training, reaching 0.15, nbut the validation loss also decreases at first, reaching a minimum of 0.2993 at the 7th epoch, but then increases again to 0.3562 at the 10th epoch. This causes the model to early stop.\n",
        "\n",
        "The performance is overall an improvement from LSTM(32). Compared to the previous lab, this caused a descra"
      ],
      "metadata": {
        "id": "Llfute6Uj-Gv"
      }
    },
    {
      "cell_type": "markdown",
      "source": [
        "##Analysis"
      ],
      "metadata": {
        "id": "uDKAkMSL0CE0"
      }
    },
    {
      "cell_type": "markdown",
      "source": [
        "A simpleRNN processes input data in a single direction, meaning it only takes into account previous inputs when making predictions. On the other hand, an LSTM is designed to overcome the limitations of simpleRNNs by introducing a \"memory\" cell, which can store information from previous inputs and selectively decide which information to keep or discard. This allows the LSTM to better handle sequential data and make more accurate predictions.\n",
        "\n",
        "The\n",
        "\n",
        "A bidirectional LSTM (biLSTM) is a variant of the LSTM that processes input data in both forward and backward directions. This allows the model to capture context from both past and future inputs, leading to even better performance on sequential data.\n",
        "\n",
        "In terms of performance, a biLSTM typically performs better than a simpleRNN or LSTM on tasks such as natural language processing, speech recognition, and time series forecasting, as it can better capture the context and dependencies in the input data."
      ],
      "metadata": {
        "id": "jrvyoyK60gHj"
      }
    },
    {
      "cell_type": "markdown",
      "source": [
        "##Test"
      ],
      "metadata": {
        "id": "64ArEP9d4IKv"
      }
    },
    {
      "cell_type": "code",
      "source": [
        "from keras.preprocessing.text import Tokenizer\n",
        "\n",
        "\n",
        "test_sentences = [\n",
        "  \"That movie was absolutely awful\",\n",
        "  \"The acting was a bit lacking\",\n",
        "  \"The film was creative and surprising\",\n",
        "  \"Absolutely fantastic!\",\n",
        "  \"This movie is not worth the money\",\n",
        "  \"The only positive thing with this movie is the music\"\n",
        "]\n",
        "\n",
        "y_test = [0, 0, 1, 1, 0, 0]\n",
        "\n",
        "\n",
        "# Initialize the tokenizer\n",
        "tokenizer = Tokenizer(num_words=None, filters='!\"#$%&()*+,-./:;<=>?@[\\\\]^_`{|}~\\t\\n', lower=True, split=' ', char_level=False, oov_token=None, document_count=0)\n",
        "# Set up tokenizer based on IMDB wordlist\n",
        "index_offset = 3\n",
        "word_to_id = imdb.get_word_index()\n",
        "word_to_id = {k: (v + index_offset) for k, v in word_to_id.items()}\n",
        "word_to_id[\"<PAD>\"] = 0\n",
        "word_to_id[\"<START>\"] = 1\n",
        "word_to_id[\"<UNK>\"] = 2\n",
        "tokenizer.word_index = word_to_id\n",
        "\n",
        "# Fit the tokenizer on the test sentences\n",
        "tokenizer.fit_on_texts(test_sentences)\n",
        "\n",
        "# Tokenize the test sentences\n",
        "test_seq = tokenizer.texts_to_sequences(test_sentences)\n",
        "print(test_seq)"
      ],
      "metadata": {
        "colab": {
          "base_uri": "https://localhost:8080/"
        },
        "id": "eOvB17wn4TL7",
        "outputId": "2ea54815-981e-4172-cc4b-535f3773cb8e"
      },
      "execution_count": null,
      "outputs": [
        {
          "output_type": "stream",
          "name": "stdout",
          "text": [
            "[[7, 2, 3, 4, 8], [1, 9, 3, 10, 11, 12], [1, 13, 3, 14, 15, 16], [4, 17], [5, 2, 6, 18, 19, 1, 20], [1, 21, 22, 23, 24, 5, 2, 6, 1, 25]]\n"
          ]
        }
      ]
    },
    {
      "cell_type": "code",
      "source": [
        "from sklearn.metrics import accuracy_score, precision_score, recall_score, f1_score\n",
        "import numpy as np\n",
        "\n",
        "# Pad the sequences to the same length\n",
        "from keras_preprocessing.sequence import pad_sequences\n",
        "max_sequence_length = max([len(s.split()) for s in test_sentences])\n",
        "test_sequences = pad_sequences(test_seq, maxlen=max_sequence_length)\n",
        "\n",
        "# Test your model\n",
        "predictions = model.predict(test_sequences)\n",
        "\n",
        "# Print prediction\n",
        "print(predictions)\n",
        "print(\"Positive if pred > 0.5\")\n",
        "print()\n",
        "\n",
        "# Convert the predictions to a binary format (i.e. 0 or 1)\n",
        "predictions = [1 if pred > 0.5 else 0 for pred in predictions]\n",
        "\n",
        "print(\"Labels:     \", y_test)\n",
        "print(\"Prediction: \", predictions)\n",
        "print()\n",
        "\n",
        "# Calculate the evaluation metrics\n",
        "acc = accuracy_score(y_test, predictions)\n",
        "prec = precision_score(y_test, predictions)\n",
        "rec = recall_score(y_test, predictions)\n",
        "f1 = f1_score(y_test, predictions)\n",
        "\n",
        "# Print the results\n",
        "print(\"Accuracy: \", acc)\n",
        "print(\"Precision: \", prec)\n",
        "print(\"Recall: \", rec)\n",
        "print(\"F1-Score: \", f1)\n",
        "\n",
        "print()\n",
        "print()\n",
        "\n",
        "# Compare predictions with actual labels\n",
        "for i, prediction in enumerate(predictions):\n",
        "    print(\"Sentence: \", test_sentences[i])\n",
        "    print(\"Prediction: \", prediction)\n",
        "    print(\"Label: \", y_test[i])\n",
        "    print()"
      ],
      "metadata": {
        "colab": {
          "base_uri": "https://localhost:8080/"
        },
        "id": "oTGnxNEK6-dt",
        "outputId": "55554d00-2923-4c06-977c-f91a060fda62"
      },
      "execution_count": null,
      "outputs": [
        {
          "output_type": "stream",
          "name": "stdout",
          "text": [
            "1/1 [==============================] - 0s 16ms/step\n",
            "[[0.5181259 ]\n",
            " [0.4150509 ]\n",
            " [0.32717445]\n",
            " [0.5624048 ]\n",
            " [0.32424414]\n",
            " [0.1916808 ]]\n",
            "Positive if pred > 0.5\n",
            "\n",
            "Labels:      [0, 0, 1, 1, 0, 0]\n",
            "Prediction:  [1, 0, 0, 1, 0, 0]\n",
            "\n",
            "Accuracy:  0.6666666666666666\n",
            "Precision:  0.5\n",
            "Recall:  0.5\n",
            "F1-Score:  0.5\n",
            "\n",
            "\n",
            "Sentence:  That movie was absolutely awful\n",
            "Prediction:  1\n",
            "Label:  0\n",
            "\n",
            "Sentence:  The acting was a bit lacking\n",
            "Prediction:  0\n",
            "Label:  0\n",
            "\n",
            "Sentence:  The film was creative and surprising\n",
            "Prediction:  0\n",
            "Label:  1\n",
            "\n",
            "Sentence:  Absolutely fantastic!\n",
            "Prediction:  1\n",
            "Label:  1\n",
            "\n",
            "Sentence:  This movie is not worth the money\n",
            "Prediction:  0\n",
            "Label:  0\n",
            "\n",
            "Sentence:  The only positive thing with this movie is the music\n",
            "Prediction:  0\n",
            "Label:  0\n",
            "\n"
          ]
        }
      ]
    },
    {
      "cell_type": "markdown",
      "source": [
        "# Conclusion\n",
        "\n",
        "\n",
        "This result suggests that the model is not performing well. The accuracy is around 67%, meaning that 2 out of 6 predictions are incorrect, taking into consideration our models accuracy during validation (80%).\n",
        "\n",
        "\n",
        "It seems the model does slightly understanding, but awful must be a token the model should have picked on, but it didn't, which is suprising. Did it pick up on \"lacking\" or was is just a fluke? I have rerun the test, but the results are more often than not very similar.\n",
        "\n",
        "\n",
        "The model may not have picked up on the word awful, creative and suprisingm but rather picked up on noise such as \"a bit\" and \"not\" with negative connotations, while \"absolute\" with positive. Thinking of tokenization, the word is stripped to it's root form, \"absolutely\" could be reduced to \"absolute\". and Absolute could be assosiated with positive things such as seen in sentence 1 and 4.\n"
      ],
      "metadata": {
        "id": "tvMPuYXHPess"
      }
    }
  ],
  "metadata": {
    "colab": {
      "provenance": [],
      "collapsed_sections": [
        "Diz3SdpPPvlJ",
        "WRp0_D3mPyxS",
        "QofCrSugSXaZ"
      ],
      "authorship_tag": "ABX9TyNmyUtGHGRvTcoUOJnXTNMS",
      "include_colab_link": true
    },
    "kernelspec": {
      "display_name": "Python 3",
      "name": "python3"
    },
    "language_info": {
      "name": "python"
    },
    "accelerator": "GPU",
    "gpuClass": "standard"
  },
  "nbformat": 4,
  "nbformat_minor": 0
}